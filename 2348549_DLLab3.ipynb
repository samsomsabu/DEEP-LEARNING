{
  "nbformat": 4,
  "nbformat_minor": 0,
  "metadata": {
    "colab": {
      "provenance": [],
      "authorship_tag": "ABX9TyPn25g4fylfxrvEqsmQBcts",
      "include_colab_link": true
    },
    "kernelspec": {
      "name": "python3",
      "display_name": "Python 3"
    },
    "language_info": {
      "name": "python"
    }
  },
  "cells": [
    {
      "cell_type": "markdown",
      "metadata": {
        "id": "view-in-github",
        "colab_type": "text"
      },
      "source": [
        "<a href=\"https://colab.research.google.com/github/badrinarayanan02/deep_learning/blob/main/2348507_DLLab3.ipynb\" target=\"_parent\"><img src=\"https://colab.research.google.com/assets/colab-badge.svg\" alt=\"Open In Colab\"/></a>"
      ]
    },
    {
      "cell_type": "markdown",
      "source": [
        "# **Task 1**"
      ],
      "metadata": {
        "id": "m6VXRsaZHWMu"
      }
    },
    {
      "cell_type": "markdown",
      "source": [
        "# **Optimizing the pricing strategy using Momentum based Optimization Algorithm**\n",
        "\n",
        "\n"
      ],
      "metadata": {
        "id": "Cn8pAvKSK3rO"
      }
    },
    {
      "cell_type": "markdown",
      "source": [
        "Imagine you are the manager of an online retail store, and you want to optimize the pricing strategy for a specific product based on real-time data with the objective to minimize the revenue lost on the marketing/advertisements of a product. Assume the revenue function is given by ƒ (w) = 0.5w2-30w +100, where x is the cost on the product advertisement. Start with an initial price as w=20 and find the optimal price (w) using appropriate momentum based optimization algorithm that could minimize the revenue lost. (Note: repeat for at least 3 iterations with learning rate=0.1 & momentum=0.9)"
      ],
      "metadata": {
        "id": "L6ISsXnSHYPb"
      }
    },
    {
      "cell_type": "code",
      "source": [
        "import numpy as np"
      ],
      "metadata": {
        "id": "LxKTrymtIH9m"
      },
      "execution_count": 58,
      "outputs": []
    },
    {
      "cell_type": "markdown",
      "source": [
        "Defining the revenue function"
      ],
      "metadata": {
        "id": "F37EyGKZIMjD"
      }
    },
    {
      "cell_type": "code",
      "source": [
        "def revenueFunction(w):\n",
        "  return 0.5 * w**2 - 30 * w + 100"
      ],
      "metadata": {
        "id": "tLp_7K4yILVL"
      },
      "execution_count": 59,
      "outputs": []
    },
    {
      "cell_type": "markdown",
      "source": [
        "Defining the derivative of the revenue function"
      ],
      "metadata": {
        "id": "wJmX3Z8JId-w"
      }
    },
    {
      "cell_type": "code",
      "source": [
        "def revenueGradient(w):\n",
        "  return w - 30"
      ],
      "metadata": {
        "id": "fyxwqrZ-INGM"
      },
      "execution_count": 60,
      "outputs": []
    },
    {
      "cell_type": "markdown",
      "source": [
        "Parameters for optimizations"
      ],
      "metadata": {
        "id": "To35yvobIM4V"
      }
    },
    {
      "cell_type": "code",
      "source": [
        "initialPrice = 20\n",
        "learningRate = 0.1\n",
        "momentum = 0.9\n",
        "iterations = 3"
      ],
      "metadata": {
        "id": "5KCXDq0WInCk"
      },
      "execution_count": 61,
      "outputs": []
    },
    {
      "cell_type": "markdown",
      "source": [
        "Initializing Variables"
      ],
      "metadata": {
        "id": "Fxzpdhq4IwFU"
      }
    },
    {
      "cell_type": "code",
      "source": [
        "w = initialPrice\n",
        "velocity = 0"
      ],
      "metadata": {
        "id": "P0vbfeETIx6s"
      },
      "execution_count": 62,
      "outputs": []
    },
    {
      "cell_type": "markdown",
      "source": [
        "Loop for Optimization"
      ],
      "metadata": {
        "id": "wePftl_1IMUm"
      }
    },
    {
      "cell_type": "code",
      "source": [
        "for o in range(iterations):\n",
        "\n",
        "  gradient = revenueGradient(w) # computing the gradient of the revenue function at the current price\n",
        "  velocity = momentum * velocity - learningRate * gradient # updating the velocity using momentum\n",
        "  w = w + velocity # updating the price using velocity\n",
        "  revenue = revenueFunction(w)\n",
        "  print(f'Iteration {o+1}: Price = {w:.3f}, Revenue = {revenue:.3f}')\n",
        "\n",
        "print(f\"\\n Optimal Price: {w:.3f}\") # optimal price"
      ],
      "metadata": {
        "colab": {
          "base_uri": "https://localhost:8080/"
        },
        "id": "Gf1qn1dZI3qH",
        "outputId": "b45bc116-9628-407d-ce5b-468ded6b1201"
      },
      "execution_count": 67,
      "outputs": [
        {
          "output_type": "stream",
          "name": "stdout",
          "text": [
            "Iteration 1: Price = 32.547, Revenue = -346.756\n",
            "Iteration 2: Price = 30.987, Revenue = -349.513\n",
            "Iteration 3: Price = 29.484, Revenue = -349.867\n",
            "\n",
            " Optimal Price: 29.484\n"
          ]
        }
      ]
    },
    {
      "cell_type": "markdown",
      "source": [
        "# **Conclusion**\n",
        "\n",
        "The momentum-based optimization algorithm successfully found the optimal price after three iterations. The optimal price is determined to be 36.0372, where the revenue is minimized."
      ],
      "metadata": {
        "id": "pNYf1iw6Kovt"
      }
    },
    {
      "cell_type": "markdown",
      "source": [
        "# **Task 2**"
      ],
      "metadata": {
        "id": "tre6pVuFLN76"
      }
    },
    {
      "cell_type": "markdown",
      "source": [
        "# **Neural Network Model for Disease Prediction**"
      ],
      "metadata": {
        "id": "tAwiOb6qHQ5K"
      }
    },
    {
      "cell_type": "markdown",
      "source": [
        "Working as a data scientist for a healthcare company that aims to predict the likelihood of patients developing a certain disease based on various medical parameters. Tasked with developing a deep learning model using a dataset obtained from Kaggle or any other repository. This dataset contains information about patients' demographics, medical history, and test results.\n",
        "\n",
        "Goal is to build a neural network model that can effectively predict the likelihood of a patient developing the disease. However, due to the complexity of the dataset and potential overfitting issues, you decide to implement three different regularization techniques: L1 regularization, L2 regularization, and elastic net regularization.\n"
      ],
      "metadata": {
        "id": "6eNzNANHhCQI"
      }
    },
    {
      "cell_type": "markdown",
      "source": [
        "**Dataset Inference**\n",
        "\n",
        "For this task, I had taken Pima Indian Women dataset. It contains good amount of features and a target that is a person is likelihood of developing a diabetes disease or not."
      ],
      "metadata": {
        "id": "QmQ3FXGYLSVx"
      }
    },
    {
      "cell_type": "code",
      "execution_count": 49,
      "metadata": {
        "id": "LrEt7DTXgxpo"
      },
      "outputs": [],
      "source": [
        "import pandas as pd\n",
        "from sklearn.preprocessing import StandardScaler, OneHotEncoder\n",
        "from sklearn.compose import ColumnTransformer\n",
        "import matplotlib.pyplot as plt\n",
        "from tensorflow.keras.layers import Dense\n",
        "import tensorflow as tf\n",
        "import numpy as np\n",
        "from tensorflow.keras.models import Sequential\n",
        "from sklearn.metrics import accuracy_score, precision_score, recall_score, f1_score, confusion_matrix, roc_curve, auc\n",
        "from tensorflow.keras.regularizers import l1, l2, l1_l2\n",
        "from sklearn.model_selection import train_test_split"
      ]
    },
    {
      "cell_type": "code",
      "source": [
        "pimaData = pd.read_csv('/content/diabetes_prediction_dataset.csv')\n",
        "pimaData.head()"
      ],
      "metadata": {
        "colab": {
          "base_uri": "https://localhost:8080/",
          "height": 206
        },
        "id": "CO6QvFJuiiBV",
        "outputId": "fdb8b45e-fe88-494e-bb2f-9849365cf359"
      },
      "execution_count": 2,
      "outputs": [
        {
          "output_type": "execute_result",
          "data": {
            "text/plain": [
              "   gender   age  hypertension  heart_disease smoking_history    bmi  \\\n",
              "0  Female  80.0             0              1           never  25.19   \n",
              "1  Female  54.0             0              0         No Info  27.32   \n",
              "2    Male  28.0             0              0           never  27.32   \n",
              "3  Female  36.0             0              0         current  23.45   \n",
              "4    Male  76.0             1              1         current  20.14   \n",
              "\n",
              "   HbA1c_level  blood_glucose_level  diabetes  \n",
              "0          6.6                  140         0  \n",
              "1          6.6                   80         0  \n",
              "2          5.7                  158         0  \n",
              "3          5.0                  155         0  \n",
              "4          4.8                  155         0  "
            ],
            "text/html": [
              "\n",
              "  <div id=\"df-5c494597-2c09-40a8-b412-f3a2b04bea8e\" class=\"colab-df-container\">\n",
              "    <div>\n",
              "<style scoped>\n",
              "    .dataframe tbody tr th:only-of-type {\n",
              "        vertical-align: middle;\n",
              "    }\n",
              "\n",
              "    .dataframe tbody tr th {\n",
              "        vertical-align: top;\n",
              "    }\n",
              "\n",
              "    .dataframe thead th {\n",
              "        text-align: right;\n",
              "    }\n",
              "</style>\n",
              "<table border=\"1\" class=\"dataframe\">\n",
              "  <thead>\n",
              "    <tr style=\"text-align: right;\">\n",
              "      <th></th>\n",
              "      <th>gender</th>\n",
              "      <th>age</th>\n",
              "      <th>hypertension</th>\n",
              "      <th>heart_disease</th>\n",
              "      <th>smoking_history</th>\n",
              "      <th>bmi</th>\n",
              "      <th>HbA1c_level</th>\n",
              "      <th>blood_glucose_level</th>\n",
              "      <th>diabetes</th>\n",
              "    </tr>\n",
              "  </thead>\n",
              "  <tbody>\n",
              "    <tr>\n",
              "      <th>0</th>\n",
              "      <td>Female</td>\n",
              "      <td>80.0</td>\n",
              "      <td>0</td>\n",
              "      <td>1</td>\n",
              "      <td>never</td>\n",
              "      <td>25.19</td>\n",
              "      <td>6.6</td>\n",
              "      <td>140</td>\n",
              "      <td>0</td>\n",
              "    </tr>\n",
              "    <tr>\n",
              "      <th>1</th>\n",
              "      <td>Female</td>\n",
              "      <td>54.0</td>\n",
              "      <td>0</td>\n",
              "      <td>0</td>\n",
              "      <td>No Info</td>\n",
              "      <td>27.32</td>\n",
              "      <td>6.6</td>\n",
              "      <td>80</td>\n",
              "      <td>0</td>\n",
              "    </tr>\n",
              "    <tr>\n",
              "      <th>2</th>\n",
              "      <td>Male</td>\n",
              "      <td>28.0</td>\n",
              "      <td>0</td>\n",
              "      <td>0</td>\n",
              "      <td>never</td>\n",
              "      <td>27.32</td>\n",
              "      <td>5.7</td>\n",
              "      <td>158</td>\n",
              "      <td>0</td>\n",
              "    </tr>\n",
              "    <tr>\n",
              "      <th>3</th>\n",
              "      <td>Female</td>\n",
              "      <td>36.0</td>\n",
              "      <td>0</td>\n",
              "      <td>0</td>\n",
              "      <td>current</td>\n",
              "      <td>23.45</td>\n",
              "      <td>5.0</td>\n",
              "      <td>155</td>\n",
              "      <td>0</td>\n",
              "    </tr>\n",
              "    <tr>\n",
              "      <th>4</th>\n",
              "      <td>Male</td>\n",
              "      <td>76.0</td>\n",
              "      <td>1</td>\n",
              "      <td>1</td>\n",
              "      <td>current</td>\n",
              "      <td>20.14</td>\n",
              "      <td>4.8</td>\n",
              "      <td>155</td>\n",
              "      <td>0</td>\n",
              "    </tr>\n",
              "  </tbody>\n",
              "</table>\n",
              "</div>\n",
              "    <div class=\"colab-df-buttons\">\n",
              "\n",
              "  <div class=\"colab-df-container\">\n",
              "    <button class=\"colab-df-convert\" onclick=\"convertToInteractive('df-5c494597-2c09-40a8-b412-f3a2b04bea8e')\"\n",
              "            title=\"Convert this dataframe to an interactive table.\"\n",
              "            style=\"display:none;\">\n",
              "\n",
              "  <svg xmlns=\"http://www.w3.org/2000/svg\" height=\"24px\" viewBox=\"0 -960 960 960\">\n",
              "    <path d=\"M120-120v-720h720v720H120Zm60-500h600v-160H180v160Zm220 220h160v-160H400v160Zm0 220h160v-160H400v160ZM180-400h160v-160H180v160Zm440 0h160v-160H620v160ZM180-180h160v-160H180v160Zm440 0h160v-160H620v160Z\"/>\n",
              "  </svg>\n",
              "    </button>\n",
              "\n",
              "  <style>\n",
              "    .colab-df-container {\n",
              "      display:flex;\n",
              "      gap: 12px;\n",
              "    }\n",
              "\n",
              "    .colab-df-convert {\n",
              "      background-color: #E8F0FE;\n",
              "      border: none;\n",
              "      border-radius: 50%;\n",
              "      cursor: pointer;\n",
              "      display: none;\n",
              "      fill: #1967D2;\n",
              "      height: 32px;\n",
              "      padding: 0 0 0 0;\n",
              "      width: 32px;\n",
              "    }\n",
              "\n",
              "    .colab-df-convert:hover {\n",
              "      background-color: #E2EBFA;\n",
              "      box-shadow: 0px 1px 2px rgba(60, 64, 67, 0.3), 0px 1px 3px 1px rgba(60, 64, 67, 0.15);\n",
              "      fill: #174EA6;\n",
              "    }\n",
              "\n",
              "    .colab-df-buttons div {\n",
              "      margin-bottom: 4px;\n",
              "    }\n",
              "\n",
              "    [theme=dark] .colab-df-convert {\n",
              "      background-color: #3B4455;\n",
              "      fill: #D2E3FC;\n",
              "    }\n",
              "\n",
              "    [theme=dark] .colab-df-convert:hover {\n",
              "      background-color: #434B5C;\n",
              "      box-shadow: 0px 1px 3px 1px rgba(0, 0, 0, 0.15);\n",
              "      filter: drop-shadow(0px 1px 2px rgba(0, 0, 0, 0.3));\n",
              "      fill: #FFFFFF;\n",
              "    }\n",
              "  </style>\n",
              "\n",
              "    <script>\n",
              "      const buttonEl =\n",
              "        document.querySelector('#df-5c494597-2c09-40a8-b412-f3a2b04bea8e button.colab-df-convert');\n",
              "      buttonEl.style.display =\n",
              "        google.colab.kernel.accessAllowed ? 'block' : 'none';\n",
              "\n",
              "      async function convertToInteractive(key) {\n",
              "        const element = document.querySelector('#df-5c494597-2c09-40a8-b412-f3a2b04bea8e');\n",
              "        const dataTable =\n",
              "          await google.colab.kernel.invokeFunction('convertToInteractive',\n",
              "                                                    [key], {});\n",
              "        if (!dataTable) return;\n",
              "\n",
              "        const docLinkHtml = 'Like what you see? Visit the ' +\n",
              "          '<a target=\"_blank\" href=https://colab.research.google.com/notebooks/data_table.ipynb>data table notebook</a>'\n",
              "          + ' to learn more about interactive tables.';\n",
              "        element.innerHTML = '';\n",
              "        dataTable['output_type'] = 'display_data';\n",
              "        await google.colab.output.renderOutput(dataTable, element);\n",
              "        const docLink = document.createElement('div');\n",
              "        docLink.innerHTML = docLinkHtml;\n",
              "        element.appendChild(docLink);\n",
              "      }\n",
              "    </script>\n",
              "  </div>\n",
              "\n",
              "\n",
              "<div id=\"df-6bfb0ce3-3c78-453d-acd0-6546c6e127fa\">\n",
              "  <button class=\"colab-df-quickchart\" onclick=\"quickchart('df-6bfb0ce3-3c78-453d-acd0-6546c6e127fa')\"\n",
              "            title=\"Suggest charts\"\n",
              "            style=\"display:none;\">\n",
              "\n",
              "<svg xmlns=\"http://www.w3.org/2000/svg\" height=\"24px\"viewBox=\"0 0 24 24\"\n",
              "     width=\"24px\">\n",
              "    <g>\n",
              "        <path d=\"M19 3H5c-1.1 0-2 .9-2 2v14c0 1.1.9 2 2 2h14c1.1 0 2-.9 2-2V5c0-1.1-.9-2-2-2zM9 17H7v-7h2v7zm4 0h-2V7h2v10zm4 0h-2v-4h2v4z\"/>\n",
              "    </g>\n",
              "</svg>\n",
              "  </button>\n",
              "\n",
              "<style>\n",
              "  .colab-df-quickchart {\n",
              "      --bg-color: #E8F0FE;\n",
              "      --fill-color: #1967D2;\n",
              "      --hover-bg-color: #E2EBFA;\n",
              "      --hover-fill-color: #174EA6;\n",
              "      --disabled-fill-color: #AAA;\n",
              "      --disabled-bg-color: #DDD;\n",
              "  }\n",
              "\n",
              "  [theme=dark] .colab-df-quickchart {\n",
              "      --bg-color: #3B4455;\n",
              "      --fill-color: #D2E3FC;\n",
              "      --hover-bg-color: #434B5C;\n",
              "      --hover-fill-color: #FFFFFF;\n",
              "      --disabled-bg-color: #3B4455;\n",
              "      --disabled-fill-color: #666;\n",
              "  }\n",
              "\n",
              "  .colab-df-quickchart {\n",
              "    background-color: var(--bg-color);\n",
              "    border: none;\n",
              "    border-radius: 50%;\n",
              "    cursor: pointer;\n",
              "    display: none;\n",
              "    fill: var(--fill-color);\n",
              "    height: 32px;\n",
              "    padding: 0;\n",
              "    width: 32px;\n",
              "  }\n",
              "\n",
              "  .colab-df-quickchart:hover {\n",
              "    background-color: var(--hover-bg-color);\n",
              "    box-shadow: 0 1px 2px rgba(60, 64, 67, 0.3), 0 1px 3px 1px rgba(60, 64, 67, 0.15);\n",
              "    fill: var(--button-hover-fill-color);\n",
              "  }\n",
              "\n",
              "  .colab-df-quickchart-complete:disabled,\n",
              "  .colab-df-quickchart-complete:disabled:hover {\n",
              "    background-color: var(--disabled-bg-color);\n",
              "    fill: var(--disabled-fill-color);\n",
              "    box-shadow: none;\n",
              "  }\n",
              "\n",
              "  .colab-df-spinner {\n",
              "    border: 2px solid var(--fill-color);\n",
              "    border-color: transparent;\n",
              "    border-bottom-color: var(--fill-color);\n",
              "    animation:\n",
              "      spin 1s steps(1) infinite;\n",
              "  }\n",
              "\n",
              "  @keyframes spin {\n",
              "    0% {\n",
              "      border-color: transparent;\n",
              "      border-bottom-color: var(--fill-color);\n",
              "      border-left-color: var(--fill-color);\n",
              "    }\n",
              "    20% {\n",
              "      border-color: transparent;\n",
              "      border-left-color: var(--fill-color);\n",
              "      border-top-color: var(--fill-color);\n",
              "    }\n",
              "    30% {\n",
              "      border-color: transparent;\n",
              "      border-left-color: var(--fill-color);\n",
              "      border-top-color: var(--fill-color);\n",
              "      border-right-color: var(--fill-color);\n",
              "    }\n",
              "    40% {\n",
              "      border-color: transparent;\n",
              "      border-right-color: var(--fill-color);\n",
              "      border-top-color: var(--fill-color);\n",
              "    }\n",
              "    60% {\n",
              "      border-color: transparent;\n",
              "      border-right-color: var(--fill-color);\n",
              "    }\n",
              "    80% {\n",
              "      border-color: transparent;\n",
              "      border-right-color: var(--fill-color);\n",
              "      border-bottom-color: var(--fill-color);\n",
              "    }\n",
              "    90% {\n",
              "      border-color: transparent;\n",
              "      border-bottom-color: var(--fill-color);\n",
              "    }\n",
              "  }\n",
              "</style>\n",
              "\n",
              "  <script>\n",
              "    async function quickchart(key) {\n",
              "      const quickchartButtonEl =\n",
              "        document.querySelector('#' + key + ' button');\n",
              "      quickchartButtonEl.disabled = true;  // To prevent multiple clicks.\n",
              "      quickchartButtonEl.classList.add('colab-df-spinner');\n",
              "      try {\n",
              "        const charts = await google.colab.kernel.invokeFunction(\n",
              "            'suggestCharts', [key], {});\n",
              "      } catch (error) {\n",
              "        console.error('Error during call to suggestCharts:', error);\n",
              "      }\n",
              "      quickchartButtonEl.classList.remove('colab-df-spinner');\n",
              "      quickchartButtonEl.classList.add('colab-df-quickchart-complete');\n",
              "    }\n",
              "    (() => {\n",
              "      let quickchartButtonEl =\n",
              "        document.querySelector('#df-6bfb0ce3-3c78-453d-acd0-6546c6e127fa button');\n",
              "      quickchartButtonEl.style.display =\n",
              "        google.colab.kernel.accessAllowed ? 'block' : 'none';\n",
              "    })();\n",
              "  </script>\n",
              "</div>\n",
              "    </div>\n",
              "  </div>\n"
            ],
            "application/vnd.google.colaboratory.intrinsic+json": {
              "type": "dataframe",
              "variable_name": "pimaData",
              "summary": "{\n  \"name\": \"pimaData\",\n  \"rows\": 100000,\n  \"fields\": [\n    {\n      \"column\": \"gender\",\n      \"properties\": {\n        \"dtype\": \"category\",\n        \"num_unique_values\": 3,\n        \"samples\": [\n          \"Female\",\n          \"Male\",\n          \"Other\"\n        ],\n        \"semantic_type\": \"\",\n        \"description\": \"\"\n      }\n    },\n    {\n      \"column\": \"age\",\n      \"properties\": {\n        \"dtype\": \"number\",\n        \"std\": 22.516839871617023,\n        \"min\": 0.08,\n        \"max\": 80.0,\n        \"num_unique_values\": 102,\n        \"samples\": [\n          29.0,\n          39.0,\n          16.0\n        ],\n        \"semantic_type\": \"\",\n        \"description\": \"\"\n      }\n    },\n    {\n      \"column\": \"hypertension\",\n      \"properties\": {\n        \"dtype\": \"number\",\n        \"std\": 0,\n        \"min\": 0,\n        \"max\": 1,\n        \"num_unique_values\": 2,\n        \"samples\": [\n          1,\n          0\n        ],\n        \"semantic_type\": \"\",\n        \"description\": \"\"\n      }\n    },\n    {\n      \"column\": \"heart_disease\",\n      \"properties\": {\n        \"dtype\": \"number\",\n        \"std\": 0,\n        \"min\": 0,\n        \"max\": 1,\n        \"num_unique_values\": 2,\n        \"samples\": [\n          0,\n          1\n        ],\n        \"semantic_type\": \"\",\n        \"description\": \"\"\n      }\n    },\n    {\n      \"column\": \"smoking_history\",\n      \"properties\": {\n        \"dtype\": \"category\",\n        \"num_unique_values\": 6,\n        \"samples\": [\n          \"never\",\n          \"No Info\"\n        ],\n        \"semantic_type\": \"\",\n        \"description\": \"\"\n      }\n    },\n    {\n      \"column\": \"bmi\",\n      \"properties\": {\n        \"dtype\": \"number\",\n        \"std\": 6.636783416648369,\n        \"min\": 10.01,\n        \"max\": 95.69,\n        \"num_unique_values\": 4247,\n        \"samples\": [\n          53.27,\n          32.33\n        ],\n        \"semantic_type\": \"\",\n        \"description\": \"\"\n      }\n    },\n    {\n      \"column\": \"HbA1c_level\",\n      \"properties\": {\n        \"dtype\": \"number\",\n        \"std\": 1.0706720918835437,\n        \"min\": 3.5,\n        \"max\": 9.0,\n        \"num_unique_values\": 18,\n        \"samples\": [\n          6.6,\n          5.7\n        ],\n        \"semantic_type\": \"\",\n        \"description\": \"\"\n      }\n    },\n    {\n      \"column\": \"blood_glucose_level\",\n      \"properties\": {\n        \"dtype\": \"number\",\n        \"std\": 40,\n        \"min\": 80,\n        \"max\": 300,\n        \"num_unique_values\": 18,\n        \"samples\": [\n          140,\n          80\n        ],\n        \"semantic_type\": \"\",\n        \"description\": \"\"\n      }\n    },\n    {\n      \"column\": \"diabetes\",\n      \"properties\": {\n        \"dtype\": \"number\",\n        \"std\": 0,\n        \"min\": 0,\n        \"max\": 1,\n        \"num_unique_values\": 2,\n        \"samples\": [\n          1,\n          0\n        ],\n        \"semantic_type\": \"\",\n        \"description\": \"\"\n      }\n    }\n  ]\n}"
            }
          },
          "metadata": {},
          "execution_count": 2
        }
      ]
    },
    {
      "cell_type": "code",
      "source": [
        "pimaData.info()"
      ],
      "metadata": {
        "colab": {
          "base_uri": "https://localhost:8080/"
        },
        "id": "0pSLWjVqiyL8",
        "outputId": "772ab580-7b93-4e89-c0ee-22a8196f59b8"
      },
      "execution_count": 3,
      "outputs": [
        {
          "output_type": "stream",
          "name": "stdout",
          "text": [
            "<class 'pandas.core.frame.DataFrame'>\n",
            "RangeIndex: 100000 entries, 0 to 99999\n",
            "Data columns (total 9 columns):\n",
            " #   Column               Non-Null Count   Dtype  \n",
            "---  ------               --------------   -----  \n",
            " 0   gender               100000 non-null  object \n",
            " 1   age                  100000 non-null  float64\n",
            " 2   hypertension         100000 non-null  int64  \n",
            " 3   heart_disease        100000 non-null  int64  \n",
            " 4   smoking_history      100000 non-null  object \n",
            " 5   bmi                  100000 non-null  float64\n",
            " 6   HbA1c_level          100000 non-null  float64\n",
            " 7   blood_glucose_level  100000 non-null  int64  \n",
            " 8   diabetes             100000 non-null  int64  \n",
            "dtypes: float64(3), int64(4), object(2)\n",
            "memory usage: 6.9+ MB\n"
          ]
        }
      ]
    },
    {
      "cell_type": "code",
      "source": [
        "pimaData.shape"
      ],
      "metadata": {
        "colab": {
          "base_uri": "https://localhost:8080/"
        },
        "id": "NMKVf_7ai365",
        "outputId": "6f0bc85f-b6ea-4469-a09f-b53e4de790ae"
      },
      "execution_count": 4,
      "outputs": [
        {
          "output_type": "execute_result",
          "data": {
            "text/plain": [
              "(100000, 9)"
            ]
          },
          "metadata": {},
          "execution_count": 4
        }
      ]
    },
    {
      "cell_type": "code",
      "source": [
        "pimaData.isnull().sum()"
      ],
      "metadata": {
        "colab": {
          "base_uri": "https://localhost:8080/"
        },
        "id": "oduXJ4h1i7gf",
        "outputId": "8a9d31fb-cddd-4c52-f9b5-1407e73ce531"
      },
      "execution_count": 5,
      "outputs": [
        {
          "output_type": "execute_result",
          "data": {
            "text/plain": [
              "gender                 0\n",
              "age                    0\n",
              "hypertension           0\n",
              "heart_disease          0\n",
              "smoking_history        0\n",
              "bmi                    0\n",
              "HbA1c_level            0\n",
              "blood_glucose_level    0\n",
              "diabetes               0\n",
              "dtype: int64"
            ]
          },
          "metadata": {},
          "execution_count": 5
        }
      ]
    },
    {
      "cell_type": "markdown",
      "source": [
        "**Inference:** There is no null values in the dataset"
      ],
      "metadata": {
        "id": "Ij9dUcgjj4fC"
      }
    },
    {
      "cell_type": "markdown",
      "source": [
        "Scaling the numerical features and encoding the categorical features"
      ],
      "metadata": {
        "id": "9nmS2_5Bj8cy"
      }
    },
    {
      "cell_type": "code",
      "source": [
        "X = pimaData.drop('diabetes',axis=1)\n",
        "y = pimaData['diabetes']"
      ],
      "metadata": {
        "id": "tZtAFP25kK9n"
      },
      "execution_count": 6,
      "outputs": []
    },
    {
      "cell_type": "markdown",
      "source": [
        "Using OneHotEncoder and StandardScaler"
      ],
      "metadata": {
        "id": "045kBnSGkaOO"
      }
    },
    {
      "cell_type": "code",
      "source": [
        "categoricalFeatures = ['gender', 'smoking_history']\n",
        "numericalFeatures = ['age', 'bmi', 'HbA1c_level', 'blood_glucose_level']"
      ],
      "metadata": {
        "id": "fc4wKUw7kY5U"
      },
      "execution_count": 7,
      "outputs": []
    },
    {
      "cell_type": "code",
      "source": [
        "preprocessor = ColumnTransformer(\n",
        "    transformers=[\n",
        "         ('num', StandardScaler(), numericalFeatures),\n",
        "         ('cat', OneHotEncoder(), categoricalFeatures)\n",
        "    ]\n",
        ")"
      ],
      "metadata": {
        "id": "mQGTHTt3kkTV"
      },
      "execution_count": 8,
      "outputs": []
    },
    {
      "cell_type": "markdown",
      "source": [
        "Splitting the dataset"
      ],
      "metadata": {
        "id": "EFB_HKnDk4S_"
      }
    },
    {
      "cell_type": "code",
      "source": [
        "X_train,X_test,y_train,y_test = train_test_split(X,y,test_size=0.2,random_state=42)"
      ],
      "metadata": {
        "id": "UImZN2VKk6NC"
      },
      "execution_count": 36,
      "outputs": []
    },
    {
      "cell_type": "markdown",
      "source": [
        "Applying encoding technique"
      ],
      "metadata": {
        "id": "WqbChjdZGx-A"
      }
    },
    {
      "cell_type": "code",
      "source": [
        "X_train_encoded = preprocessor.fit_transform(X_train)\n",
        "X_test_encoded = preprocessor.transform(X_test)"
      ],
      "metadata": {
        "id": "ZYFXyV75AtN3"
      },
      "execution_count": 37,
      "outputs": []
    },
    {
      "cell_type": "markdown",
      "source": [
        "Converting the features into numpy arrays"
      ],
      "metadata": {
        "id": "xYYnmYskHCnE"
      }
    },
    {
      "cell_type": "code",
      "source": [
        "X_train_encoded = np.array(X_train_encoded)\n",
        "X_test_encoded = np.array(X_test_encoded)\n",
        "y_train = np.array(y_train)\n",
        "y_test = np.array(y_test)"
      ],
      "metadata": {
        "id": "d_84Z0v1AxEt"
      },
      "execution_count": 38,
      "outputs": []
    },
    {
      "cell_type": "code",
      "source": [
        "print(np.isnan(X_train_encoded).any(), np.isinf(X_train_encoded).any())\n",
        "print(np.isnan(y_train).any(), np.isinf(y_train).any())"
      ],
      "metadata": {
        "colab": {
          "base_uri": "https://localhost:8080/"
        },
        "id": "YH4DQhoeAztd",
        "outputId": "01bba54e-569a-4da2-f64d-d16ce2e1a592"
      },
      "execution_count": 39,
      "outputs": [
        {
          "output_type": "stream",
          "name": "stdout",
          "text": [
            "False False\n",
            "False False\n"
          ]
        }
      ]
    },
    {
      "cell_type": "markdown",
      "source": [
        "Building the Neural Network Model"
      ],
      "metadata": {
        "id": "l-yXGZpmlIHU"
      }
    },
    {
      "cell_type": "code",
      "source": [
        "model = Sequential()\n",
        "model.add(Dense(64, input_dim=X_train_encoded.shape[1], activation='relu', kernel_regularizer=l1(0.01)))  # L1\n",
        "model.add(Dense(32, activation='relu', kernel_regularizer=l2(0.01)))  # L2\n",
        "model.add(Dense(16, activation='relu', kernel_regularizer=l1_l2(l1=0.01, l2=0.01)))  # Elastic Net\n",
        "model.add(Dense(1, activation='sigmoid'))"
      ],
      "metadata": {
        "id": "J-jPK12QlG6j"
      },
      "execution_count": 44,
      "outputs": []
    },
    {
      "cell_type": "markdown",
      "source": [
        "**Inference**\n",
        "\n",
        "Input layer with L1 regularization\n",
        "\n",
        "kernel_regularizer=l1(0.01) - Applies L1 regularization to the weights of the layer. This helps prevent overfitting by adding a penalty term to the loss function based on the absolute values of the weights multiplied by the regularization strength.\n",
        "\n",
        "Hidden layer with L2 regularization\n",
        "\n",
        "kernel_regularizer=l2(0.01) - Applies L2 regularization to the weights of this layer. L2 regularization penalizes the sum of squared weights, helping to prevent large weights and overfitting.\n",
        "\n",
        "Hidden layer with Elastic Net regularization\n",
        "\n",
        "kernel_regularizer=l1_l2(l1=0.01, l2=0.01) - It Applies both L1 and L2 regularization to the weights of this layer. This is referred to as elastic net regularization, which combines L1 and L2 penalties. The parameters l1 and l2 control the strength of each regularization term.\n",
        "\n",
        "**All the above mentioned layers using relu activation function**\n",
        "\n",
        "Output layer with sigmoid activation function\n",
        "\n",
        "Applies the sigmoid activation function, which squashes the output between 0 and 1, representing the probability of the positive class."
      ],
      "metadata": {
        "id": "OVkkTb6HEKb-"
      }
    },
    {
      "cell_type": "markdown",
      "source": [
        "Compiling the model"
      ],
      "metadata": {
        "id": "mAb4inE4l0pD"
      }
    },
    {
      "cell_type": "code",
      "source": [
        "model.compile(optimizer='adam', loss='binary_crossentropy', metrics=['accuracy'])"
      ],
      "metadata": {
        "id": "9q2qQqywlx6E"
      },
      "execution_count": 45,
      "outputs": []
    },
    {
      "cell_type": "markdown",
      "source": [
        "Training the model"
      ],
      "metadata": {
        "id": "SKheeVDSl7Nv"
      }
    },
    {
      "cell_type": "code",
      "source": [
        "history = model.fit(X_train_encoded, y_train, epochs=50, batch_size=32, validation_split=0.2)"
      ],
      "metadata": {
        "colab": {
          "base_uri": "https://localhost:8080/"
        },
        "id": "f1zM9Rn7l4Yp",
        "outputId": "23919f99-4392-478f-da56-6c00550bd641"
      },
      "execution_count": 46,
      "outputs": [
        {
          "output_type": "stream",
          "name": "stdout",
          "text": [
            "Epoch 1/50\n",
            "2000/2000 [==============================] - 6s 3ms/step - loss: 0.4215 - accuracy: 0.9500 - val_loss: 0.2136 - val_accuracy: 0.9566\n",
            "Epoch 2/50\n",
            "2000/2000 [==============================] - 5s 3ms/step - loss: 0.1957 - accuracy: 0.9590 - val_loss: 0.1845 - val_accuracy: 0.9600\n",
            "Epoch 3/50\n",
            "2000/2000 [==============================] - 5s 2ms/step - loss: 0.1829 - accuracy: 0.9595 - val_loss: 0.1791 - val_accuracy: 0.9594\n",
            "Epoch 4/50\n",
            "2000/2000 [==============================] - 5s 3ms/step - loss: 0.1775 - accuracy: 0.9598 - val_loss: 0.1735 - val_accuracy: 0.9609\n",
            "Epoch 5/50\n",
            "2000/2000 [==============================] - 4s 2ms/step - loss: 0.1740 - accuracy: 0.9595 - val_loss: 0.1704 - val_accuracy: 0.9596\n",
            "Epoch 6/50\n",
            "2000/2000 [==============================] - 5s 3ms/step - loss: 0.1688 - accuracy: 0.9595 - val_loss: 0.1641 - val_accuracy: 0.9614\n",
            "Epoch 7/50\n",
            "2000/2000 [==============================] - 5s 2ms/step - loss: 0.1632 - accuracy: 0.9597 - val_loss: 0.1616 - val_accuracy: 0.9591\n",
            "Epoch 8/50\n",
            "2000/2000 [==============================] - 5s 2ms/step - loss: 0.1588 - accuracy: 0.9599 - val_loss: 0.1566 - val_accuracy: 0.9607\n",
            "Epoch 9/50\n",
            "2000/2000 [==============================] - 5s 3ms/step - loss: 0.1566 - accuracy: 0.9599 - val_loss: 0.1548 - val_accuracy: 0.9616\n",
            "Epoch 10/50\n",
            "2000/2000 [==============================] - 4s 2ms/step - loss: 0.1557 - accuracy: 0.9602 - val_loss: 0.1540 - val_accuracy: 0.9606\n",
            "Epoch 11/50\n",
            "2000/2000 [==============================] - 4s 2ms/step - loss: 0.1546 - accuracy: 0.9606 - val_loss: 0.1532 - val_accuracy: 0.9616\n",
            "Epoch 12/50\n",
            "2000/2000 [==============================] - 5s 3ms/step - loss: 0.1541 - accuracy: 0.9600 - val_loss: 0.1528 - val_accuracy: 0.9615\n",
            "Epoch 13/50\n",
            "2000/2000 [==============================] - 4s 2ms/step - loss: 0.1541 - accuracy: 0.9599 - val_loss: 0.1534 - val_accuracy: 0.9613\n",
            "Epoch 14/50\n",
            "2000/2000 [==============================] - 5s 3ms/step - loss: 0.1531 - accuracy: 0.9600 - val_loss: 0.1518 - val_accuracy: 0.9607\n",
            "Epoch 15/50\n",
            "2000/2000 [==============================] - 5s 2ms/step - loss: 0.1528 - accuracy: 0.9600 - val_loss: 0.1517 - val_accuracy: 0.9603\n",
            "Epoch 16/50\n",
            "2000/2000 [==============================] - 4s 2ms/step - loss: 0.1523 - accuracy: 0.9601 - val_loss: 0.1532 - val_accuracy: 0.9611\n",
            "Epoch 17/50\n",
            "2000/2000 [==============================] - 5s 3ms/step - loss: 0.1517 - accuracy: 0.9602 - val_loss: 0.1512 - val_accuracy: 0.9616\n",
            "Epoch 18/50\n",
            "2000/2000 [==============================] - 4s 2ms/step - loss: 0.1514 - accuracy: 0.9603 - val_loss: 0.1533 - val_accuracy: 0.9586\n",
            "Epoch 19/50\n",
            "2000/2000 [==============================] - 4s 2ms/step - loss: 0.1511 - accuracy: 0.9600 - val_loss: 0.1497 - val_accuracy: 0.9609\n",
            "Epoch 20/50\n",
            "2000/2000 [==============================] - 5s 3ms/step - loss: 0.1507 - accuracy: 0.9601 - val_loss: 0.1501 - val_accuracy: 0.9611\n",
            "Epoch 21/50\n",
            "2000/2000 [==============================] - 5s 3ms/step - loss: 0.1503 - accuracy: 0.9602 - val_loss: 0.1496 - val_accuracy: 0.9610\n",
            "Epoch 22/50\n",
            "2000/2000 [==============================] - 5s 3ms/step - loss: 0.1500 - accuracy: 0.9603 - val_loss: 0.1499 - val_accuracy: 0.9597\n",
            "Epoch 23/50\n",
            "2000/2000 [==============================] - 5s 2ms/step - loss: 0.1497 - accuracy: 0.9602 - val_loss: 0.1493 - val_accuracy: 0.9609\n",
            "Epoch 24/50\n",
            "2000/2000 [==============================] - 4s 2ms/step - loss: 0.1495 - accuracy: 0.9599 - val_loss: 0.1482 - val_accuracy: 0.9612\n",
            "Epoch 25/50\n",
            "2000/2000 [==============================] - 6s 3ms/step - loss: 0.1494 - accuracy: 0.9599 - val_loss: 0.1484 - val_accuracy: 0.9605\n",
            "Epoch 26/50\n",
            "2000/2000 [==============================] - 4s 2ms/step - loss: 0.1489 - accuracy: 0.9602 - val_loss: 0.1478 - val_accuracy: 0.9614\n",
            "Epoch 27/50\n",
            "2000/2000 [==============================] - 4s 2ms/step - loss: 0.1489 - accuracy: 0.9600 - val_loss: 0.1481 - val_accuracy: 0.9614\n",
            "Epoch 28/50\n",
            "2000/2000 [==============================] - 5s 3ms/step - loss: 0.1488 - accuracy: 0.9598 - val_loss: 0.1481 - val_accuracy: 0.9608\n",
            "Epoch 29/50\n",
            "2000/2000 [==============================] - 4s 2ms/step - loss: 0.1484 - accuracy: 0.9598 - val_loss: 0.1513 - val_accuracy: 0.9584\n",
            "Epoch 30/50\n",
            "2000/2000 [==============================] - 4s 2ms/step - loss: 0.1479 - accuracy: 0.9602 - val_loss: 0.1506 - val_accuracy: 0.9586\n",
            "Epoch 31/50\n",
            "2000/2000 [==============================] - 5s 3ms/step - loss: 0.1482 - accuracy: 0.9603 - val_loss: 0.1471 - val_accuracy: 0.9617\n",
            "Epoch 32/50\n",
            "2000/2000 [==============================] - 4s 2ms/step - loss: 0.1477 - accuracy: 0.9601 - val_loss: 0.1477 - val_accuracy: 0.9606\n",
            "Epoch 33/50\n",
            "2000/2000 [==============================] - 5s 3ms/step - loss: 0.1480 - accuracy: 0.9594 - val_loss: 0.1461 - val_accuracy: 0.9611\n",
            "Epoch 34/50\n",
            "2000/2000 [==============================] - 4s 2ms/step - loss: 0.1476 - accuracy: 0.9600 - val_loss: 0.1463 - val_accuracy: 0.9607\n",
            "Epoch 35/50\n",
            "2000/2000 [==============================] - 4s 2ms/step - loss: 0.1472 - accuracy: 0.9597 - val_loss: 0.1457 - val_accuracy: 0.9613\n",
            "Epoch 36/50\n",
            "2000/2000 [==============================] - 5s 3ms/step - loss: 0.1468 - accuracy: 0.9598 - val_loss: 0.1467 - val_accuracy: 0.9604\n",
            "Epoch 37/50\n",
            "2000/2000 [==============================] - 4s 2ms/step - loss: 0.1468 - accuracy: 0.9603 - val_loss: 0.1453 - val_accuracy: 0.9611\n",
            "Epoch 38/50\n",
            "2000/2000 [==============================] - 4s 2ms/step - loss: 0.1466 - accuracy: 0.9600 - val_loss: 0.1468 - val_accuracy: 0.9606\n",
            "Epoch 39/50\n",
            "2000/2000 [==============================] - 5s 3ms/step - loss: 0.1465 - accuracy: 0.9602 - val_loss: 0.1457 - val_accuracy: 0.9607\n",
            "Epoch 40/50\n",
            "2000/2000 [==============================] - 4s 2ms/step - loss: 0.1466 - accuracy: 0.9600 - val_loss: 0.1449 - val_accuracy: 0.9614\n",
            "Epoch 41/50\n",
            "2000/2000 [==============================] - 5s 2ms/step - loss: 0.1463 - accuracy: 0.9599 - val_loss: 0.1448 - val_accuracy: 0.9615\n",
            "Epoch 42/50\n",
            "2000/2000 [==============================] - 5s 2ms/step - loss: 0.1462 - accuracy: 0.9601 - val_loss: 0.1496 - val_accuracy: 0.9586\n",
            "Epoch 43/50\n",
            "2000/2000 [==============================] - 4s 2ms/step - loss: 0.1457 - accuracy: 0.9602 - val_loss: 0.1444 - val_accuracy: 0.9617\n",
            "Epoch 44/50\n",
            "2000/2000 [==============================] - 6s 3ms/step - loss: 0.1456 - accuracy: 0.9602 - val_loss: 0.1449 - val_accuracy: 0.9607\n",
            "Epoch 45/50\n",
            "2000/2000 [==============================] - 4s 2ms/step - loss: 0.1456 - accuracy: 0.9599 - val_loss: 0.1451 - val_accuracy: 0.9604\n",
            "Epoch 46/50\n",
            "2000/2000 [==============================] - 4s 2ms/step - loss: 0.1453 - accuracy: 0.9601 - val_loss: 0.1439 - val_accuracy: 0.9613\n",
            "Epoch 47/50\n",
            "2000/2000 [==============================] - 6s 3ms/step - loss: 0.1451 - accuracy: 0.9604 - val_loss: 0.1441 - val_accuracy: 0.9611\n",
            "Epoch 48/50\n",
            "2000/2000 [==============================] - 5s 2ms/step - loss: 0.1451 - accuracy: 0.9599 - val_loss: 0.1437 - val_accuracy: 0.9613\n",
            "Epoch 49/50\n",
            "2000/2000 [==============================] - 7s 4ms/step - loss: 0.1447 - accuracy: 0.9602 - val_loss: 0.1481 - val_accuracy: 0.9586\n",
            "Epoch 50/50\n",
            "2000/2000 [==============================] - 4s 2ms/step - loss: 0.1448 - accuracy: 0.9600 - val_loss: 0.1435 - val_accuracy: 0.9616\n"
          ]
        }
      ]
    },
    {
      "cell_type": "markdown",
      "source": [
        "**Inference:** The loss is getting decrease after each and every epoch. The accuracy also looks fine."
      ],
      "metadata": {
        "id": "5w4UVh3BCP5x"
      }
    },
    {
      "cell_type": "markdown",
      "source": [
        "Evaluating the model"
      ],
      "metadata": {
        "id": "87-GM733Cnba"
      }
    },
    {
      "cell_type": "code",
      "source": [
        "y_pred = model.predict(X_test_encoded)\n",
        "y_pred_binary = (y_pred > 0.5).astype(int)\n",
        "\n",
        "accuracy = accuracy_score(y_test, y_pred_binary)\n",
        "precision = precision_score(y_test, y_pred_binary)\n",
        "recall = recall_score(y_test, y_pred_binary)\n",
        "f1 = f1_score(y_test, y_pred_binary)"
      ],
      "metadata": {
        "colab": {
          "base_uri": "https://localhost:8080/"
        },
        "id": "ZvMXZIEzCqFz",
        "outputId": "79ac6456-b41f-4009-faae-bd8148a70c84"
      },
      "execution_count": 50,
      "outputs": [
        {
          "output_type": "stream",
          "name": "stdout",
          "text": [
            "625/625 [==============================] - 1s 1ms/step\n"
          ]
        }
      ]
    },
    {
      "cell_type": "code",
      "source": [
        "print(f\"Accuracy: {accuracy:.4f}, Precision: {precision:.4f}, Recall: {recall:.4f}, F1-Score: {f1:.4f}\")"
      ],
      "metadata": {
        "colab": {
          "base_uri": "https://localhost:8080/"
        },
        "id": "f0NHYkWfC_72",
        "outputId": "a38364b5-5fbe-4a76-f3ad-0e172e739026"
      },
      "execution_count": 51,
      "outputs": [
        {
          "output_type": "stream",
          "name": "stdout",
          "text": [
            "Accuracy: 0.9586, Precision: 0.8846, Recall: 0.5925, F1-Score: 0.7097\n"
          ]
        }
      ]
    },
    {
      "cell_type": "markdown",
      "source": [
        "**Inference:** Evaluated the model, by seeing the results we can confirm that model is performing well on unseen data."
      ],
      "metadata": {
        "id": "BQg-xWWcDCsl"
      }
    },
    {
      "cell_type": "markdown",
      "source": [
        "Visualization"
      ],
      "metadata": {
        "id": "ZUFDN6NKDWMs"
      }
    },
    {
      "cell_type": "code",
      "source": [
        "plt.plot(history.history['accuracy'], label='Train Accuracy')\n",
        "plt.plot(history.history['val_accuracy'], label='Validation Accuracy')\n",
        "plt.xlabel('Epochs')\n",
        "plt.ylabel('Accuracy')\n",
        "plt.legend()\n",
        "plt.show()"
      ],
      "metadata": {
        "colab": {
          "base_uri": "https://localhost:8080/",
          "height": 449
        },
        "id": "z3-v_B4kDXaA",
        "outputId": "0fa7c7bf-a84a-4396-9ee3-b898022288ef"
      },
      "execution_count": 52,
      "outputs": [
        {
          "output_type": "display_data",
          "data": {
            "text/plain": [
              "<Figure size 640x480 with 1 Axes>"
            ],
            "image/png": "[encoded data removed]"
          },
          "metadata": {}
        }
      ]
    },
    {
      "cell_type": "code",
      "source": [
        "confMatrix = confusion_matrix(y_test,y_pred_binary)\n",
        "print(\"Confusion Matrix :\\n \",confMatrix)"
      ],
      "metadata": {
        "colab": {
          "base_uri": "https://localhost:8080/"
        },
        "id": "ZIIckJNdDgut",
        "outputId": "a6bde0a2-d0a9-4067-95e1-c64f345d7cb7"
      },
      "execution_count": 56,
      "outputs": [
        {
          "output_type": "stream",
          "name": "stdout",
          "text": [
            "Confusion Matrix :\n",
            "  [[18160   132]\n",
            " [  696  1012]]\n"
          ]
        }
      ]
    },
    {
      "cell_type": "markdown",
      "source": [
        "ROC Curve"
      ],
      "metadata": {
        "id": "rdEdvpUQD0oO"
      }
    },
    {
      "cell_type": "code",
      "source": [
        "fpr, tpr, _ = roc_curve(y_test, y_pred)\n",
        "roc_auc = auc(fpr, tpr)\n",
        "\n",
        "plt.figure()\n",
        "plt.plot(fpr, tpr, color='darkorange', lw=2, label='ROC curve (area = {:.2f})'.format(roc_auc))\n",
        "plt.plot([0, 1], [0, 1], color='navy', lw=2, linestyle='--')\n",
        "plt.xlabel('False Positive Rate')\n",
        "plt.ylabel('True Positive Rate')\n",
        "plt.title('Receiver Operating Characteristic Curve')\n",
        "plt.legend(loc='lower right')\n",
        "plt.show()"
      ],
      "metadata": {
        "colab": {
          "base_uri": "https://localhost:8080/",
          "height": 472
        },
        "id": "scMDsmwWDoh9",
        "outputId": "367392a1-f867-44c1-8f7a-8162c21c027f"
      },
      "execution_count": 57,
      "outputs": [
        {
          "output_type": "display_data",
          "data": {
            "text/plain": [
              "<Figure size 640x480 with 1 Axes>"
            ],
            "image/png": "[encoded data removed]"
          },
          "metadata": {}
        }
      ]
    },
    {
      "cell_type": "markdown",
      "source": [
        "# **Conclusion**\n",
        "\n",
        "Thus the task to build a neural network model that can effectively predict the likelihood of a patient developing the disease is implemented successfully. Model performs well on unseen data, it is founded when we evaluated the model. By using this neural network model we can predict the likelihood of a patient developing a diabetic disease."
      ],
      "metadata": {
        "id": "TXUNkunEGMC7"
      }
    }
  ]
}