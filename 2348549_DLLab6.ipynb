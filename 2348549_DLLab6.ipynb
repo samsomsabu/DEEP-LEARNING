{
 "cells": [
  {
   "cell_type": "code",
   "execution_count": 169,
   "id": "3b36dff1-075d-4de5-a7dc-367a0339a763",
   "metadata": {},
   "outputs": [],
   "source": [
    "import os\n",
    "import numpy as np\n",
    "import cv2\n",
    "import math\n",
    "import matplotlib.pyplot as plt\n",
    "import seaborn as sns\n",
    "from sklearn.model_selection import train_test_split\n",
    "from sklearn.metrics import classification_report, confusion_matrix, accuracy_score, recall_score, precision_score, roc_auc_score,f1_score,roc_curve\n",
    "from tensorflow.keras.preprocessing.image import ImageDataGenerator\n",
    "from keras.models import Sequential\n",
    "from keras.layers import Conv2D, MaxPooling2D, Flatten, Dense, Dropout\n",
    "from keras.applications import VGG16, VGG19\n",
    "from tensorflow.keras.optimizers import Adam\n",
    "from tensorflow.keras import optimizers\n",
    "from tensorflow.keras.models import load_model\n",
    "from tensorflow.keras.callbacks import EarlyStopping\n",
    "from tensorflow.keras.preprocessing import image\n",
    "from keras.saving import save_model"
   ]
  },
  {
   "cell_type": "code",
   "execution_count": 41,
   "id": "148c33c4-6442-4363-9de6-95a4162ad0d7",
   "metadata": {},
   "outputs": [],
   "source": [
    "np.random.seed(42)"
   ]
  },
  {
   "cell_type": "markdown",
   "id": "b68fb83c-0aca-48be-bdf6-3e1b6e593d67",
   "metadata": {},
   "source": [
    "## Data Preprocessing ##"
   ]
  },
  {
   "cell_type": "markdown",
   "id": "8bd47890-efba-46a2-a996-9ff1cb54f33a",
   "metadata": {},
   "source": [
    "Defining path and Image Dimensions"
   ]
  },
  {
   "cell_type": "code",
   "execution_count": 42,
   "id": "85181948-4032-4729-bdfc-55b80b58b531",
   "metadata": {},
   "outputs": [],
   "source": [
    "train_dir = 'C:\\\\Users\\\\USER\\\\OneDrive\\\\Desktop\\\\Datasets\\\\DL\\\\skinCancer - Lab6\\\\train'\n",
    "test_dir = 'C:\\\\Users\\\\USER\\\\OneDrive\\\\Desktop\\\\Datasets\\\\DL\\\\skinCancer - Lab6\\\\test'\n",
    "\n",
    "img_width, img_height = 224, 224"
   ]
  },
  {
   "cell_type": "markdown",
   "id": "97bbae2e-a6e2-4121-9e48-c72b5dfe7419",
   "metadata": {},
   "source": [
    "Defining the batch size"
   ]
  },
  {
   "cell_type": "code",
   "execution_count": 43,
   "id": "07f12b63-c4bc-4e35-9e28-358057c8ee2b",
   "metadata": {},
   "outputs": [],
   "source": [
    "batch_size = 32"
   ]
  },
  {
   "cell_type": "markdown",
   "id": "e7d9aa68-d410-450d-b0bc-6f0f53e4bcd9",
   "metadata": {},
   "source": [
    "Data Augmentation"
   ]
  },
  {
   "cell_type": "code",
   "execution_count": 44,
   "id": "56a23ea6-1241-485e-aa22-be558c5d651c",
   "metadata": {},
   "outputs": [],
   "source": [
    "train_datagen = ImageDataGenerator(\n",
    "    rescale=1./255,         \n",
    "    rotation_range=20,       \n",
    "    width_shift_range=0.2,   \n",
    "    height_shift_range=0.2, \n",
    "    shear_range=0.2,         \n",
    "    zoom_range=0.2,          \n",
    "    horizontal_flip=True,    \n",
    "    vertical_flip=True,   \n",
    "    validation_split = 0.2,\n",
    "    fill_mode='nearest'      \n",
    ")"
   ]
  },
  {
   "cell_type": "markdown",
   "id": "129e90e6-b264-46b8-bf91-c551ff93f687",
   "metadata": {},
   "source": [
    "Inference: By performing data augmentation the model can understand different patterns from the images as we are doing operations like rotating, scaling, shearing, zooming etc. The model is exposed to different variations of the input data, which helps it generalize better to unseen examples and improves its robustness."
   ]
  },
  {
   "cell_type": "code",
   "execution_count": 45,
   "id": "b3804739-f477-4fb2-886f-270dac5f9a1f",
   "metadata": {},
   "outputs": [],
   "source": [
    "test_datagen = ImageDataGenerator(rescale=1./255)"
   ]
  },
  {
   "cell_type": "markdown",
   "id": "306dd6fd-58e1-47d1-ba88-3af73d201b6f",
   "metadata": {},
   "source": [
    "Defining training generators"
   ]
  },
  {
   "cell_type": "code",
   "execution_count": 50,
   "id": "a173b9a0-0071-4236-9d1a-b0a506f5fdf8",
   "metadata": {},
   "outputs": [
    {
     "name": "stdout",
     "output_type": "stream",
     "text": [
      "Found 2637 images belonging to 2 classes.\n"
     ]
    }
   ],
   "source": [
    "train_generator = train_datagen.flow_from_directory(\n",
    "    train_dir,\n",
    "    target_size=(img_width, img_height),\n",
    "    batch_size=batch_size,\n",
    "    class_mode='binary'  \n",
    ")"
   ]
  },
  {
   "cell_type": "markdown",
   "id": "932efc38-2ea3-45e2-993d-f29325805f3c",
   "metadata": {},
   "source": [
    "Defining testing generator"
   ]
  },
  {
   "cell_type": "code",
   "execution_count": 66,
   "id": "ffc95ee3-7c94-4c87-a8f6-86288fd57acf",
   "metadata": {},
   "outputs": [
    {
     "name": "stdout",
     "output_type": "stream",
     "text": [
      "Found 660 images belonging to 2 classes.\n"
     ]
    }
   ],
   "source": [
    "test_generator = test_datagen.flow_from_directory(\n",
    "    test_dir,\n",
    "    target_size=(img_width, img_height),\n",
    "    batch_size=batch_size,\n",
    "    class_mode='binary'  \n",
    ")\n"
   ]
  },
  {
   "cell_type": "markdown",
   "id": "4d8c19ea-8c0f-4a14-8c17-039d471b1c6b",
   "metadata": {},
   "source": [
    "Checking class labels for train and test set"
   ]
  },
  {
   "cell_type": "code",
   "execution_count": 52,
   "id": "73ac0a7f-4fe2-4de1-a768-79f3f540f778",
   "metadata": {},
   "outputs": [
    {
     "name": "stdout",
     "output_type": "stream",
     "text": [
      "Class labels for train set: {'benign': 0, 'malignant': 1}\n",
      "Class labels for test set: {'benign': 0, 'malignant': 1}\n"
     ]
    }
   ],
   "source": [
    "print(\"Class labels for train set:\", train_generator.class_indices)\n",
    "print(\"Class labels for test set:\", test_generator.class_indices)"
   ]
  },
  {
   "cell_type": "markdown",
   "id": "7ab009e0-55da-4cb3-aac0-bc36d98ba7be",
   "metadata": {},
   "source": [
    "## Building VGG19 & CNN Model ##"
   ]
  },
  {
   "cell_type": "markdown",
   "id": "5fc9d410-a94d-4b14-9d4c-753e08749f40",
   "metadata": {},
   "source": [
    "Defining function for VGG19 Model"
   ]
  },
  {
   "cell_type": "code",
   "execution_count": 53,
   "id": "6004f237-bd2b-469c-b7c6-1195765127f1",
   "metadata": {},
   "outputs": [],
   "source": [
    "def vggModel(input_shape, num_classes):\n",
    "    \n",
    "    # Loading pre-trained model \n",
    "    \n",
    "    base_model = VGG19(weights='imagenet', include_top=False, input_shape=input_shape)  \n",
    "    \n",
    "    for layer in base_model.layers:\n",
    "        layer.trainable = False\n",
    "\n",
    "    model = Sequential([\n",
    "        base_model,\n",
    "        Flatten(),\n",
    "        Dense(512, activation='relu'),\n",
    "        Dropout(0.5),\n",
    "        Dense(512, activation='relu'),\n",
    "        Dropout(0.5),\n",
    "        Dense(num_classes, activation='sigmoid')\n",
    "    ])\n",
    "\n",
    "    return model"
   ]
  },
  {
   "cell_type": "markdown",
   "id": "767bbeeb-7fea-4d1c-8dbd-3aa703d8b4bc",
   "metadata": {},
   "source": [
    "Defining function for CNN Model"
   ]
  },
  {
   "cell_type": "code",
   "execution_count": 54,
   "id": "9b22fb99-180c-4262-bbd2-9afc56893c9e",
   "metadata": {},
   "outputs": [],
   "source": [
    "def cnnModel(input_shape, num_classes):\n",
    "    model = Sequential([\n",
    "        Conv2D(32, (3, 3), activation='relu', input_shape=input_shape),\n",
    "        MaxPooling2D((2, 2)),\n",
    "        Conv2D(64, (3, 3), activation='relu'),\n",
    "        MaxPooling2D((2, 2)),\n",
    "        Conv2D(128, (3, 3), activation='relu'),\n",
    "        MaxPooling2D((2, 2)),\n",
    "        Conv2D(256, (3, 3), activation='relu'), # relu introduces non linearity\n",
    "        MaxPooling2D((2, 2)),\n",
    "        Flatten(),\n",
    "        Dense(512, activation='relu'),\n",
    "        Dropout(0.5),\n",
    "        Dense(512, activation='relu'),\n",
    "        Dropout(0.5),\n",
    "        Dense(num_classes, activation='sigmoid')\n",
    "    ])\n",
    "\n",
    "    return model"
   ]
  },
  {
   "cell_type": "markdown",
   "id": "f309eb3a-2cdd-42ae-ae39-333822438b25",
   "metadata": {},
   "source": [
    "Defining input shape and number of classes"
   ]
  },
  {
   "cell_type": "code",
   "execution_count": 55,
   "id": "e9b0dfd3-9948-48e3-bbcb-74c8ec548474",
   "metadata": {},
   "outputs": [],
   "source": [
    "input_shape = (224, 224, 3)  \n",
    "num_classes = 1  "
   ]
  },
  {
   "cell_type": "markdown",
   "id": "7e943b98-6343-407e-b3e6-493e90321bbc",
   "metadata": {},
   "source": [
    "Creating VGG19 Model"
   ]
  },
  {
   "cell_type": "code",
   "execution_count": 56,
   "id": "53a71dce-14cf-4285-922d-c03c92d1a571",
   "metadata": {},
   "outputs": [],
   "source": [
    "vgg19_model = vggModel(input_shape, num_classes)"
   ]
  },
  {
   "cell_type": "markdown",
   "id": "8428a84d-223f-4336-8d2d-851a762a7c40",
   "metadata": {},
   "source": [
    "Creating CNN Model"
   ]
  },
  {
   "cell_type": "code",
   "execution_count": 57,
   "id": "cfe45b8c-a481-4117-968d-1b9810ff0dc9",
   "metadata": {},
   "outputs": [
    {
     "name": "stderr",
     "output_type": "stream",
     "text": [
      "C:\\Users\\USER\\AppData\\Local\\Programs\\Python\\Python39\\lib\\site-packages\\keras\\src\\layers\\convolutional\\base_conv.py:99: UserWarning: Do not pass an `input_shape`/`input_dim` argument to a layer. When using Sequential models, prefer using an `Input(shape)` object as the first layer in the model instead.\n",
      "  super().__init__(\n"
     ]
    }
   ],
   "source": [
    "cnn_model = cnnModel(input_shape, num_classes)"
   ]
  },
  {
   "cell_type": "markdown",
   "id": "6f2c3901-ebb4-4e12-acec-f0a10d0d14c6",
   "metadata": {},
   "source": [
    "Model Summary"
   ]
  },
  {
   "cell_type": "code",
   "execution_count": 58,
   "id": "2ce4a0b0-8ff6-4d37-bce9-996783f57011",
   "metadata": {},
   "outputs": [
    {
     "data": {
      "text/html": [
       "<pre style=\"white-space:pre;overflow-x:auto;line-height:normal;font-family:Menlo,'DejaVu Sans Mono',consolas,'Courier New',monospace\"><span style=\"font-weight: bold\">Model: \"sequential_2\"</span>\n",
       "</pre>\n"
      ],
      "text/plain": [
       "\u001b[1mModel: \"sequential_2\"\u001b[0m\n"
      ]
     },
     "metadata": {},
     "output_type": "display_data"
    },
    {
     "data": {
      "text/html": [
       "<pre style=\"white-space:pre;overflow-x:auto;line-height:normal;font-family:Menlo,'DejaVu Sans Mono',consolas,'Courier New',monospace\">┏━━━━━━━━━━━━━━━━━━━━━━━━━━━━━━━━━━━━━━┳━━━━━━━━━━━━━━━━━━━━━━━━━━━━━┳━━━━━━━━━━━━━━━━━┓\n",
       "┃<span style=\"font-weight: bold\"> Layer (type)                         </span>┃<span style=\"font-weight: bold\"> Output Shape                </span>┃<span style=\"font-weight: bold\">         Param # </span>┃\n",
       "┡━━━━━━━━━━━━━━━━━━━━━━━━━━━━━━━━━━━━━━╇━━━━━━━━━━━━━━━━━━━━━━━━━━━━━╇━━━━━━━━━━━━━━━━━┩\n",
       "│ vgg19 (<span style=\"color: #0087ff; text-decoration-color: #0087ff\">Functional</span>)                   │ ?                           │      <span style=\"color: #00af00; text-decoration-color: #00af00\">20,024,384</span> │\n",
       "├──────────────────────────────────────┼─────────────────────────────┼─────────────────┤\n",
       "│ flatten_2 (<span style=\"color: #0087ff; text-decoration-color: #0087ff\">Flatten</span>)                  │ ?                           │     <span style=\"color: #00af00; text-decoration-color: #00af00\">0</span> (unbuilt) │\n",
       "├──────────────────────────────────────┼─────────────────────────────┼─────────────────┤\n",
       "│ dense_6 (<span style=\"color: #0087ff; text-decoration-color: #0087ff\">Dense</span>)                      │ ?                           │     <span style=\"color: #00af00; text-decoration-color: #00af00\">0</span> (unbuilt) │\n",
       "├──────────────────────────────────────┼─────────────────────────────┼─────────────────┤\n",
       "│ dropout_4 (<span style=\"color: #0087ff; text-decoration-color: #0087ff\">Dropout</span>)                  │ ?                           │               <span style=\"color: #00af00; text-decoration-color: #00af00\">0</span> │\n",
       "├──────────────────────────────────────┼─────────────────────────────┼─────────────────┤\n",
       "│ dense_7 (<span style=\"color: #0087ff; text-decoration-color: #0087ff\">Dense</span>)                      │ ?                           │     <span style=\"color: #00af00; text-decoration-color: #00af00\">0</span> (unbuilt) │\n",
       "├──────────────────────────────────────┼─────────────────────────────┼─────────────────┤\n",
       "│ dropout_5 (<span style=\"color: #0087ff; text-decoration-color: #0087ff\">Dropout</span>)                  │ ?                           │               <span style=\"color: #00af00; text-decoration-color: #00af00\">0</span> │\n",
       "├──────────────────────────────────────┼─────────────────────────────┼─────────────────┤\n",
       "│ dense_8 (<span style=\"color: #0087ff; text-decoration-color: #0087ff\">Dense</span>)                      │ ?                           │     <span style=\"color: #00af00; text-decoration-color: #00af00\">0</span> (unbuilt) │\n",
       "└──────────────────────────────────────┴─────────────────────────────┴─────────────────┘\n",
       "</pre>\n"
      ],
      "text/plain": [
       "┏━━━━━━━━━━━━━━━━━━━━━━━━━━━━━━━━━━━━━━┳━━━━━━━━━━━━━━━━━━━━━━━━━━━━━┳━━━━━━━━━━━━━━━━━┓\n",
       "┃\u001b[1m \u001b[0m\u001b[1mLayer (type)                        \u001b[0m\u001b[1m \u001b[0m┃\u001b[1m \u001b[0m\u001b[1mOutput Shape               \u001b[0m\u001b[1m \u001b[0m┃\u001b[1m \u001b[0m\u001b[1m        Param #\u001b[0m\u001b[1m \u001b[0m┃\n",
       "┡━━━━━━━━━━━━━━━━━━━━━━━━━━━━━━━━━━━━━━╇━━━━━━━━━━━━━━━━━━━━━━━━━━━━━╇━━━━━━━━━━━━━━━━━┩\n",
       "│ vgg19 (\u001b[38;5;33mFunctional\u001b[0m)                   │ ?                           │      \u001b[38;5;34m20,024,384\u001b[0m │\n",
       "├──────────────────────────────────────┼─────────────────────────────┼─────────────────┤\n",
       "│ flatten_2 (\u001b[38;5;33mFlatten\u001b[0m)                  │ ?                           │     \u001b[38;5;34m0\u001b[0m (unbuilt) │\n",
       "├──────────────────────────────────────┼─────────────────────────────┼─────────────────┤\n",
       "│ dense_6 (\u001b[38;5;33mDense\u001b[0m)                      │ ?                           │     \u001b[38;5;34m0\u001b[0m (unbuilt) │\n",
       "├──────────────────────────────────────┼─────────────────────────────┼─────────────────┤\n",
       "│ dropout_4 (\u001b[38;5;33mDropout\u001b[0m)                  │ ?                           │               \u001b[38;5;34m0\u001b[0m │\n",
       "├──────────────────────────────────────┼─────────────────────────────┼─────────────────┤\n",
       "│ dense_7 (\u001b[38;5;33mDense\u001b[0m)                      │ ?                           │     \u001b[38;5;34m0\u001b[0m (unbuilt) │\n",
       "├──────────────────────────────────────┼─────────────────────────────┼─────────────────┤\n",
       "│ dropout_5 (\u001b[38;5;33mDropout\u001b[0m)                  │ ?                           │               \u001b[38;5;34m0\u001b[0m │\n",
       "├──────────────────────────────────────┼─────────────────────────────┼─────────────────┤\n",
       "│ dense_8 (\u001b[38;5;33mDense\u001b[0m)                      │ ?                           │     \u001b[38;5;34m0\u001b[0m (unbuilt) │\n",
       "└──────────────────────────────────────┴─────────────────────────────┴─────────────────┘\n"
      ]
     },
     "metadata": {},
     "output_type": "display_data"
    },
    {
     "data": {
      "text/html": [
       "<pre style=\"white-space:pre;overflow-x:auto;line-height:normal;font-family:Menlo,'DejaVu Sans Mono',consolas,'Courier New',monospace\"><span style=\"font-weight: bold\"> Total params: </span><span style=\"color: #00af00; text-decoration-color: #00af00\">20,024,384</span> (76.39 MB)\n",
       "</pre>\n"
      ],
      "text/plain": [
       "\u001b[1m Total params: \u001b[0m\u001b[38;5;34m20,024,384\u001b[0m (76.39 MB)\n"
      ]
     },
     "metadata": {},
     "output_type": "display_data"
    },
    {
     "data": {
      "text/html": [
       "<pre style=\"white-space:pre;overflow-x:auto;line-height:normal;font-family:Menlo,'DejaVu Sans Mono',consolas,'Courier New',monospace\"><span style=\"font-weight: bold\"> Trainable params: </span><span style=\"color: #00af00; text-decoration-color: #00af00\">0</span> (0.00 B)\n",
       "</pre>\n"
      ],
      "text/plain": [
       "\u001b[1m Trainable params: \u001b[0m\u001b[38;5;34m0\u001b[0m (0.00 B)\n"
      ]
     },
     "metadata": {},
     "output_type": "display_data"
    },
    {
     "data": {
      "text/html": [
       "<pre style=\"white-space:pre;overflow-x:auto;line-height:normal;font-family:Menlo,'DejaVu Sans Mono',consolas,'Courier New',monospace\"><span style=\"font-weight: bold\"> Non-trainable params: </span><span style=\"color: #00af00; text-decoration-color: #00af00\">20,024,384</span> (76.39 MB)\n",
       "</pre>\n"
      ],
      "text/plain": [
       "\u001b[1m Non-trainable params: \u001b[0m\u001b[38;5;34m20,024,384\u001b[0m (76.39 MB)\n"
      ]
     },
     "metadata": {},
     "output_type": "display_data"
    }
   ],
   "source": [
    "vgg19_model.summary()"
   ]
  },
  {
   "cell_type": "code",
   "execution_count": 59,
   "id": "1b037d91-d5f4-4095-8fed-fc25096f8d74",
   "metadata": {},
   "outputs": [
    {
     "data": {
      "text/html": [
       "<pre style=\"white-space:pre;overflow-x:auto;line-height:normal;font-family:Menlo,'DejaVu Sans Mono',consolas,'Courier New',monospace\"><span style=\"font-weight: bold\">Model: \"sequential_3\"</span>\n",
       "</pre>\n"
      ],
      "text/plain": [
       "\u001b[1mModel: \"sequential_3\"\u001b[0m\n"
      ]
     },
     "metadata": {},
     "output_type": "display_data"
    },
    {
     "data": {
      "text/html": [
       "<pre style=\"white-space:pre;overflow-x:auto;line-height:normal;font-family:Menlo,'DejaVu Sans Mono',consolas,'Courier New',monospace\">┏━━━━━━━━━━━━━━━━━━━━━━━━━━━━━━━━━━━━━━┳━━━━━━━━━━━━━━━━━━━━━━━━━━━━━┳━━━━━━━━━━━━━━━━━┓\n",
       "┃<span style=\"font-weight: bold\"> Layer (type)                         </span>┃<span style=\"font-weight: bold\"> Output Shape                </span>┃<span style=\"font-weight: bold\">         Param # </span>┃\n",
       "┡━━━━━━━━━━━━━━━━━━━━━━━━━━━━━━━━━━━━━━╇━━━━━━━━━━━━━━━━━━━━━━━━━━━━━╇━━━━━━━━━━━━━━━━━┩\n",
       "│ conv2d_4 (<span style=\"color: #0087ff; text-decoration-color: #0087ff\">Conv2D</span>)                    │ (<span style=\"color: #00d7ff; text-decoration-color: #00d7ff\">None</span>, <span style=\"color: #00af00; text-decoration-color: #00af00\">222</span>, <span style=\"color: #00af00; text-decoration-color: #00af00\">222</span>, <span style=\"color: #00af00; text-decoration-color: #00af00\">32</span>)        │             <span style=\"color: #00af00; text-decoration-color: #00af00\">896</span> │\n",
       "├──────────────────────────────────────┼─────────────────────────────┼─────────────────┤\n",
       "│ max_pooling2d_4 (<span style=\"color: #0087ff; text-decoration-color: #0087ff\">MaxPooling2D</span>)       │ (<span style=\"color: #00d7ff; text-decoration-color: #00d7ff\">None</span>, <span style=\"color: #00af00; text-decoration-color: #00af00\">111</span>, <span style=\"color: #00af00; text-decoration-color: #00af00\">111</span>, <span style=\"color: #00af00; text-decoration-color: #00af00\">32</span>)        │               <span style=\"color: #00af00; text-decoration-color: #00af00\">0</span> │\n",
       "├──────────────────────────────────────┼─────────────────────────────┼─────────────────┤\n",
       "│ conv2d_5 (<span style=\"color: #0087ff; text-decoration-color: #0087ff\">Conv2D</span>)                    │ (<span style=\"color: #00d7ff; text-decoration-color: #00d7ff\">None</span>, <span style=\"color: #00af00; text-decoration-color: #00af00\">109</span>, <span style=\"color: #00af00; text-decoration-color: #00af00\">109</span>, <span style=\"color: #00af00; text-decoration-color: #00af00\">64</span>)        │          <span style=\"color: #00af00; text-decoration-color: #00af00\">18,496</span> │\n",
       "├──────────────────────────────────────┼─────────────────────────────┼─────────────────┤\n",
       "│ max_pooling2d_5 (<span style=\"color: #0087ff; text-decoration-color: #0087ff\">MaxPooling2D</span>)       │ (<span style=\"color: #00d7ff; text-decoration-color: #00d7ff\">None</span>, <span style=\"color: #00af00; text-decoration-color: #00af00\">54</span>, <span style=\"color: #00af00; text-decoration-color: #00af00\">54</span>, <span style=\"color: #00af00; text-decoration-color: #00af00\">64</span>)          │               <span style=\"color: #00af00; text-decoration-color: #00af00\">0</span> │\n",
       "├──────────────────────────────────────┼─────────────────────────────┼─────────────────┤\n",
       "│ conv2d_6 (<span style=\"color: #0087ff; text-decoration-color: #0087ff\">Conv2D</span>)                    │ (<span style=\"color: #00d7ff; text-decoration-color: #00d7ff\">None</span>, <span style=\"color: #00af00; text-decoration-color: #00af00\">52</span>, <span style=\"color: #00af00; text-decoration-color: #00af00\">52</span>, <span style=\"color: #00af00; text-decoration-color: #00af00\">128</span>)         │          <span style=\"color: #00af00; text-decoration-color: #00af00\">73,856</span> │\n",
       "├──────────────────────────────────────┼─────────────────────────────┼─────────────────┤\n",
       "│ max_pooling2d_6 (<span style=\"color: #0087ff; text-decoration-color: #0087ff\">MaxPooling2D</span>)       │ (<span style=\"color: #00d7ff; text-decoration-color: #00d7ff\">None</span>, <span style=\"color: #00af00; text-decoration-color: #00af00\">26</span>, <span style=\"color: #00af00; text-decoration-color: #00af00\">26</span>, <span style=\"color: #00af00; text-decoration-color: #00af00\">128</span>)         │               <span style=\"color: #00af00; text-decoration-color: #00af00\">0</span> │\n",
       "├──────────────────────────────────────┼─────────────────────────────┼─────────────────┤\n",
       "│ conv2d_7 (<span style=\"color: #0087ff; text-decoration-color: #0087ff\">Conv2D</span>)                    │ (<span style=\"color: #00d7ff; text-decoration-color: #00d7ff\">None</span>, <span style=\"color: #00af00; text-decoration-color: #00af00\">24</span>, <span style=\"color: #00af00; text-decoration-color: #00af00\">24</span>, <span style=\"color: #00af00; text-decoration-color: #00af00\">256</span>)         │         <span style=\"color: #00af00; text-decoration-color: #00af00\">295,168</span> │\n",
       "├──────────────────────────────────────┼─────────────────────────────┼─────────────────┤\n",
       "│ max_pooling2d_7 (<span style=\"color: #0087ff; text-decoration-color: #0087ff\">MaxPooling2D</span>)       │ (<span style=\"color: #00d7ff; text-decoration-color: #00d7ff\">None</span>, <span style=\"color: #00af00; text-decoration-color: #00af00\">12</span>, <span style=\"color: #00af00; text-decoration-color: #00af00\">12</span>, <span style=\"color: #00af00; text-decoration-color: #00af00\">256</span>)         │               <span style=\"color: #00af00; text-decoration-color: #00af00\">0</span> │\n",
       "├──────────────────────────────────────┼─────────────────────────────┼─────────────────┤\n",
       "│ flatten_3 (<span style=\"color: #0087ff; text-decoration-color: #0087ff\">Flatten</span>)                  │ (<span style=\"color: #00d7ff; text-decoration-color: #00d7ff\">None</span>, <span style=\"color: #00af00; text-decoration-color: #00af00\">36864</span>)               │               <span style=\"color: #00af00; text-decoration-color: #00af00\">0</span> │\n",
       "├──────────────────────────────────────┼─────────────────────────────┼─────────────────┤\n",
       "│ dense_9 (<span style=\"color: #0087ff; text-decoration-color: #0087ff\">Dense</span>)                      │ (<span style=\"color: #00d7ff; text-decoration-color: #00d7ff\">None</span>, <span style=\"color: #00af00; text-decoration-color: #00af00\">512</span>)                 │      <span style=\"color: #00af00; text-decoration-color: #00af00\">18,874,880</span> │\n",
       "├──────────────────────────────────────┼─────────────────────────────┼─────────────────┤\n",
       "│ dropout_6 (<span style=\"color: #0087ff; text-decoration-color: #0087ff\">Dropout</span>)                  │ (<span style=\"color: #00d7ff; text-decoration-color: #00d7ff\">None</span>, <span style=\"color: #00af00; text-decoration-color: #00af00\">512</span>)                 │               <span style=\"color: #00af00; text-decoration-color: #00af00\">0</span> │\n",
       "├──────────────────────────────────────┼─────────────────────────────┼─────────────────┤\n",
       "│ dense_10 (<span style=\"color: #0087ff; text-decoration-color: #0087ff\">Dense</span>)                     │ (<span style=\"color: #00d7ff; text-decoration-color: #00d7ff\">None</span>, <span style=\"color: #00af00; text-decoration-color: #00af00\">512</span>)                 │         <span style=\"color: #00af00; text-decoration-color: #00af00\">262,656</span> │\n",
       "├──────────────────────────────────────┼─────────────────────────────┼─────────────────┤\n",
       "│ dropout_7 (<span style=\"color: #0087ff; text-decoration-color: #0087ff\">Dropout</span>)                  │ (<span style=\"color: #00d7ff; text-decoration-color: #00d7ff\">None</span>, <span style=\"color: #00af00; text-decoration-color: #00af00\">512</span>)                 │               <span style=\"color: #00af00; text-decoration-color: #00af00\">0</span> │\n",
       "├──────────────────────────────────────┼─────────────────────────────┼─────────────────┤\n",
       "│ dense_11 (<span style=\"color: #0087ff; text-decoration-color: #0087ff\">Dense</span>)                     │ (<span style=\"color: #00d7ff; text-decoration-color: #00d7ff\">None</span>, <span style=\"color: #00af00; text-decoration-color: #00af00\">1</span>)                   │             <span style=\"color: #00af00; text-decoration-color: #00af00\">513</span> │\n",
       "└──────────────────────────────────────┴─────────────────────────────┴─────────────────┘\n",
       "</pre>\n"
      ],
      "text/plain": [
       "┏━━━━━━━━━━━━━━━━━━━━━━━━━━━━━━━━━━━━━━┳━━━━━━━━━━━━━━━━━━━━━━━━━━━━━┳━━━━━━━━━━━━━━━━━┓\n",
       "┃\u001b[1m \u001b[0m\u001b[1mLayer (type)                        \u001b[0m\u001b[1m \u001b[0m┃\u001b[1m \u001b[0m\u001b[1mOutput Shape               \u001b[0m\u001b[1m \u001b[0m┃\u001b[1m \u001b[0m\u001b[1m        Param #\u001b[0m\u001b[1m \u001b[0m┃\n",
       "┡━━━━━━━━━━━━━━━━━━━━━━━━━━━━━━━━━━━━━━╇━━━━━━━━━━━━━━━━━━━━━━━━━━━━━╇━━━━━━━━━━━━━━━━━┩\n",
       "│ conv2d_4 (\u001b[38;5;33mConv2D\u001b[0m)                    │ (\u001b[38;5;45mNone\u001b[0m, \u001b[38;5;34m222\u001b[0m, \u001b[38;5;34m222\u001b[0m, \u001b[38;5;34m32\u001b[0m)        │             \u001b[38;5;34m896\u001b[0m │\n",
       "├──────────────────────────────────────┼─────────────────────────────┼─────────────────┤\n",
       "│ max_pooling2d_4 (\u001b[38;5;33mMaxPooling2D\u001b[0m)       │ (\u001b[38;5;45mNone\u001b[0m, \u001b[38;5;34m111\u001b[0m, \u001b[38;5;34m111\u001b[0m, \u001b[38;5;34m32\u001b[0m)        │               \u001b[38;5;34m0\u001b[0m │\n",
       "├──────────────────────────────────────┼─────────────────────────────┼─────────────────┤\n",
       "│ conv2d_5 (\u001b[38;5;33mConv2D\u001b[0m)                    │ (\u001b[38;5;45mNone\u001b[0m, \u001b[38;5;34m109\u001b[0m, \u001b[38;5;34m109\u001b[0m, \u001b[38;5;34m64\u001b[0m)        │          \u001b[38;5;34m18,496\u001b[0m │\n",
       "├──────────────────────────────────────┼─────────────────────────────┼─────────────────┤\n",
       "│ max_pooling2d_5 (\u001b[38;5;33mMaxPooling2D\u001b[0m)       │ (\u001b[38;5;45mNone\u001b[0m, \u001b[38;5;34m54\u001b[0m, \u001b[38;5;34m54\u001b[0m, \u001b[38;5;34m64\u001b[0m)          │               \u001b[38;5;34m0\u001b[0m │\n",
       "├──────────────────────────────────────┼─────────────────────────────┼─────────────────┤\n",
       "│ conv2d_6 (\u001b[38;5;33mConv2D\u001b[0m)                    │ (\u001b[38;5;45mNone\u001b[0m, \u001b[38;5;34m52\u001b[0m, \u001b[38;5;34m52\u001b[0m, \u001b[38;5;34m128\u001b[0m)         │          \u001b[38;5;34m73,856\u001b[0m │\n",
       "├──────────────────────────────────────┼─────────────────────────────┼─────────────────┤\n",
       "│ max_pooling2d_6 (\u001b[38;5;33mMaxPooling2D\u001b[0m)       │ (\u001b[38;5;45mNone\u001b[0m, \u001b[38;5;34m26\u001b[0m, \u001b[38;5;34m26\u001b[0m, \u001b[38;5;34m128\u001b[0m)         │               \u001b[38;5;34m0\u001b[0m │\n",
       "├──────────────────────────────────────┼─────────────────────────────┼─────────────────┤\n",
       "│ conv2d_7 (\u001b[38;5;33mConv2D\u001b[0m)                    │ (\u001b[38;5;45mNone\u001b[0m, \u001b[38;5;34m24\u001b[0m, \u001b[38;5;34m24\u001b[0m, \u001b[38;5;34m256\u001b[0m)         │         \u001b[38;5;34m295,168\u001b[0m │\n",
       "├──────────────────────────────────────┼─────────────────────────────┼─────────────────┤\n",
       "│ max_pooling2d_7 (\u001b[38;5;33mMaxPooling2D\u001b[0m)       │ (\u001b[38;5;45mNone\u001b[0m, \u001b[38;5;34m12\u001b[0m, \u001b[38;5;34m12\u001b[0m, \u001b[38;5;34m256\u001b[0m)         │               \u001b[38;5;34m0\u001b[0m │\n",
       "├──────────────────────────────────────┼─────────────────────────────┼─────────────────┤\n",
       "│ flatten_3 (\u001b[38;5;33mFlatten\u001b[0m)                  │ (\u001b[38;5;45mNone\u001b[0m, \u001b[38;5;34m36864\u001b[0m)               │               \u001b[38;5;34m0\u001b[0m │\n",
       "├──────────────────────────────────────┼─────────────────────────────┼─────────────────┤\n",
       "│ dense_9 (\u001b[38;5;33mDense\u001b[0m)                      │ (\u001b[38;5;45mNone\u001b[0m, \u001b[38;5;34m512\u001b[0m)                 │      \u001b[38;5;34m18,874,880\u001b[0m │\n",
       "├──────────────────────────────────────┼─────────────────────────────┼─────────────────┤\n",
       "│ dropout_6 (\u001b[38;5;33mDropout\u001b[0m)                  │ (\u001b[38;5;45mNone\u001b[0m, \u001b[38;5;34m512\u001b[0m)                 │               \u001b[38;5;34m0\u001b[0m │\n",
       "├──────────────────────────────────────┼─────────────────────────────┼─────────────────┤\n",
       "│ dense_10 (\u001b[38;5;33mDense\u001b[0m)                     │ (\u001b[38;5;45mNone\u001b[0m, \u001b[38;5;34m512\u001b[0m)                 │         \u001b[38;5;34m262,656\u001b[0m │\n",
       "├──────────────────────────────────────┼─────────────────────────────┼─────────────────┤\n",
       "│ dropout_7 (\u001b[38;5;33mDropout\u001b[0m)                  │ (\u001b[38;5;45mNone\u001b[0m, \u001b[38;5;34m512\u001b[0m)                 │               \u001b[38;5;34m0\u001b[0m │\n",
       "├──────────────────────────────────────┼─────────────────────────────┼─────────────────┤\n",
       "│ dense_11 (\u001b[38;5;33mDense\u001b[0m)                     │ (\u001b[38;5;45mNone\u001b[0m, \u001b[38;5;34m1\u001b[0m)                   │             \u001b[38;5;34m513\u001b[0m │\n",
       "└──────────────────────────────────────┴─────────────────────────────┴─────────────────┘\n"
      ]
     },
     "metadata": {},
     "output_type": "display_data"
    },
    {
     "data": {
      "text/html": [
       "<pre style=\"white-space:pre;overflow-x:auto;line-height:normal;font-family:Menlo,'DejaVu Sans Mono',consolas,'Courier New',monospace\"><span style=\"font-weight: bold\"> Total params: </span><span style=\"color: #00af00; text-decoration-color: #00af00\">19,526,465</span> (74.49 MB)\n",
       "</pre>\n"
      ],
      "text/plain": [
       "\u001b[1m Total params: \u001b[0m\u001b[38;5;34m19,526,465\u001b[0m (74.49 MB)\n"
      ]
     },
     "metadata": {},
     "output_type": "display_data"
    },
    {
     "data": {
      "text/html": [
       "<pre style=\"white-space:pre;overflow-x:auto;line-height:normal;font-family:Menlo,'DejaVu Sans Mono',consolas,'Courier New',monospace\"><span style=\"font-weight: bold\"> Trainable params: </span><span style=\"color: #00af00; text-decoration-color: #00af00\">19,526,465</span> (74.49 MB)\n",
       "</pre>\n"
      ],
      "text/plain": [
       "\u001b[1m Trainable params: \u001b[0m\u001b[38;5;34m19,526,465\u001b[0m (74.49 MB)\n"
      ]
     },
     "metadata": {},
     "output_type": "display_data"
    },
    {
     "data": {
      "text/html": [
       "<pre style=\"white-space:pre;overflow-x:auto;line-height:normal;font-family:Menlo,'DejaVu Sans Mono',consolas,'Courier New',monospace\"><span style=\"font-weight: bold\"> Non-trainable params: </span><span style=\"color: #00af00; text-decoration-color: #00af00\">0</span> (0.00 B)\n",
       "</pre>\n"
      ],
      "text/plain": [
       "\u001b[1m Non-trainable params: \u001b[0m\u001b[38;5;34m0\u001b[0m (0.00 B)\n"
      ]
     },
     "metadata": {},
     "output_type": "display_data"
    }
   ],
   "source": [
    "cnn_model.summary()"
   ]
  },
  {
   "cell_type": "code",
   "execution_count": 73,
   "id": "08d62e31-2a6d-4254-b936-05e0cf3a77cc",
   "metadata": {},
   "outputs": [],
   "source": [
    "optimizer = optimizers.Adam(learning_rate=0.001)"
   ]
  },
  {
   "cell_type": "markdown",
   "id": "de70c772-5d87-4677-a7ec-a8a7dc3ae851",
   "metadata": {},
   "source": [
    "Compiling VGG19 Model"
   ]
  },
  {
   "cell_type": "code",
   "execution_count": 61,
   "id": "501efee7-50a4-46cd-90ca-f9e05ab21246",
   "metadata": {},
   "outputs": [],
   "source": [
    "vgg19_model.compile(optimizer=optimizer, loss='binary_crossentropy', metrics=['accuracy'])"
   ]
  },
  {
   "cell_type": "markdown",
   "id": "20c6f398-9642-4094-bb8e-3a4cda279b04",
   "metadata": {},
   "source": [
    "Compiling CNN Model"
   ]
  },
  {
   "cell_type": "code",
   "execution_count": 74,
   "id": "03efeca4-1c45-4aa7-a58d-bb577ec4b65e",
   "metadata": {},
   "outputs": [],
   "source": [
    "cnn_model.compile(optimizer=optimizer, loss='binary_crossentropy', metrics=['accuracy'])"
   ]
  },
  {
   "cell_type": "markdown",
   "id": "459a9ac8-b6d6-4a0f-ab76-e0a9d8b30b9d",
   "metadata": {},
   "source": [
    "Defining early stopping callback"
   ]
  },
  {
   "cell_type": "code",
   "execution_count": 63,
   "id": "d0b46967-c5fa-4656-bcba-24e16df2bc1d",
   "metadata": {},
   "outputs": [],
   "source": [
    "early_stopping = EarlyStopping(monitor='val_loss', patience=3, restore_best_weights=True)"
   ]
  },
  {
   "cell_type": "markdown",
   "id": "fbd9a857-e89f-47e4-bf22-cb11ce0c9bfe",
   "metadata": {},
   "source": [
    "Training  VGG19 Model"
   ]
  },
  {
   "cell_type": "code",
   "execution_count": 67,
   "id": "aef22335-3a52-4c86-96f1-f777ba6fe92e",
   "metadata": {},
   "outputs": [
    {
     "name": "stdout",
     "output_type": "stream",
     "text": [
      "Epoch 1/10\n"
     ]
    },
    {
     "name": "stderr",
     "output_type": "stream",
     "text": [
      "C:\\Users\\USER\\AppData\\Local\\Programs\\Python\\Python39\\lib\\site-packages\\keras\\src\\trainers\\data_adapters\\py_dataset_adapter.py:120: UserWarning: Your `PyDataset` class should call `super().__init__(**kwargs)` in its constructor. `**kwargs` can include `workers`, `use_multiprocessing`, `max_queue_size`. Do not pass these arguments to `fit()`, as they will be ignored.\n",
      "  self._warn_if_super_not_called()\n"
     ]
    },
    {
     "name": "stdout",
     "output_type": "stream",
     "text": [
      "\u001b[1m83/83\u001b[0m \u001b[32m━━━━━━━━━━━━━━━━━━━━\u001b[0m\u001b[37m\u001b[0m \u001b[1m2681s\u001b[0m 32s/step - accuracy: 0.5691 - loss: 1.8062 - val_accuracy: 0.8061 - val_loss: 0.4518\n",
      "Epoch 2/10\n",
      "\u001b[1m83/83\u001b[0m \u001b[32m━━━━━━━━━━━━━━━━━━━━\u001b[0m\u001b[37m\u001b[0m \u001b[1m1833s\u001b[0m 22s/step - accuracy: 0.7234 - loss: 0.5330 - val_accuracy: 0.8258 - val_loss: 0.4197\n",
      "Epoch 3/10\n",
      "\u001b[1m83/83\u001b[0m \u001b[32m━━━━━━━━━━━━━━━━━━━━\u001b[0m\u001b[37m\u001b[0m \u001b[1m1032s\u001b[0m 12s/step - accuracy: 0.7269 - loss: 0.5328 - val_accuracy: 0.8258 - val_loss: 0.4399\n",
      "Epoch 4/10\n",
      "\u001b[1m83/83\u001b[0m \u001b[32m━━━━━━━━━━━━━━━━━━━━\u001b[0m\u001b[37m\u001b[0m \u001b[1m1170s\u001b[0m 14s/step - accuracy: 0.6731 - loss: 0.5567 - val_accuracy: 0.6924 - val_loss: 0.5682\n",
      "Epoch 5/10\n",
      "\u001b[1m83/83\u001b[0m \u001b[32m━━━━━━━━━━━━━━━━━━━━\u001b[0m\u001b[37m\u001b[0m \u001b[1m1059s\u001b[0m 13s/step - accuracy: 0.7181 - loss: 0.5355 - val_accuracy: 0.8167 - val_loss: 0.3773\n",
      "Epoch 6/10\n",
      "\u001b[1m83/83\u001b[0m \u001b[32m━━━━━━━━━━━━━━━━━━━━\u001b[0m\u001b[37m\u001b[0m \u001b[1m2327s\u001b[0m 28s/step - accuracy: 0.7293 - loss: 0.5508 - val_accuracy: 0.8303 - val_loss: 0.3864\n",
      "Epoch 7/10\n",
      "\u001b[1m83/83\u001b[0m \u001b[32m━━━━━━━━━━━━━━━━━━━━\u001b[0m\u001b[37m\u001b[0m \u001b[1m1707s\u001b[0m 20s/step - accuracy: 0.6984 - loss: 0.5378 - val_accuracy: 0.7030 - val_loss: 0.4833\n",
      "Epoch 8/10\n",
      "\u001b[1m83/83\u001b[0m \u001b[32m━━━━━━━━━━━━━━━━━━━━\u001b[0m\u001b[37m\u001b[0m \u001b[1m1030s\u001b[0m 12s/step - accuracy: 0.6951 - loss: 0.5531 - val_accuracy: 0.8348 - val_loss: 0.4127\n"
     ]
    }
   ],
   "source": [
    "buildVgg19 = vgg19_model.fit(\n",
    "    train_generator,\n",
    "    validation_data=test_generator,\n",
    "    epochs=10,\n",
    "    callbacks=[early_stopping]\n",
    ")"
   ]
  },
  {
   "cell_type": "markdown",
   "id": "8f91c206-c5c9-461a-8cf4-7cd2000012e4",
   "metadata": {},
   "source": [
    "Inference: Model's training and validation performance improved initially as we can observe the increase in accuracy and decrease in loss. After the 4th epoch the loss started to increase indicating the model may have started to overfit the training data. \n",
    "\n",
    "I used EarlyStopping callback, it monitors a specified metric (val_loss) and it stops the training if the metric does not improve for a certain number of epochs. This is the common technique used to prevent overfitting and to ensure that the model is not trained for too many epochs, which could lead to decrease performance on unseen data. So the model stopped training at 8th epoch."
   ]
  },
  {
   "cell_type": "markdown",
   "id": "8b5a4654-92ab-4df8-b122-f8708f989323",
   "metadata": {},
   "source": [
    "Training CNN Model"
   ]
  },
  {
   "cell_type": "code",
   "execution_count": 77,
   "id": "64fa2d65-d5e6-4712-aa5e-1cbe52acd6bd",
   "metadata": {},
   "outputs": [
    {
     "name": "stdout",
     "output_type": "stream",
     "text": [
      "Epoch 1/10\n",
      "\u001b[1m83/83\u001b[0m \u001b[32m━━━━━━━━━━━━━━━━━━━━\u001b[0m\u001b[37m\u001b[0m \u001b[1m175s\u001b[0m 2s/step - accuracy: 0.7705 - loss: 0.4818 - val_accuracy: 0.7439 - val_loss: 0.4641\n",
      "Epoch 2/10\n",
      "\u001b[1m83/83\u001b[0m \u001b[32m━━━━━━━━━━━━━━━━━━━━\u001b[0m\u001b[37m\u001b[0m \u001b[1m340s\u001b[0m 4s/step - accuracy: 0.7755 - loss: 0.4322 - val_accuracy: 0.7864 - val_loss: 0.3954\n",
      "Epoch 3/10\n",
      "\u001b[1m83/83\u001b[0m \u001b[32m━━━━━━━━━━━━━━━━━━━━\u001b[0m\u001b[37m\u001b[0m \u001b[1m347s\u001b[0m 4s/step - accuracy: 0.7726 - loss: 0.4527 - val_accuracy: 0.7924 - val_loss: 0.3910\n",
      "Epoch 4/10\n",
      "\u001b[1m83/83\u001b[0m \u001b[32m━━━━━━━━━━━━━━━━━━━━\u001b[0m\u001b[37m\u001b[0m \u001b[1m330s\u001b[0m 4s/step - accuracy: 0.7931 - loss: 0.4363 - val_accuracy: 0.7894 - val_loss: 0.4211\n",
      "Epoch 5/10\n",
      "\u001b[1m83/83\u001b[0m \u001b[32m━━━━━━━━━━━━━━━━━━━━\u001b[0m\u001b[37m\u001b[0m \u001b[1m338s\u001b[0m 4s/step - accuracy: 0.7620 - loss: 0.4659 - val_accuracy: 0.7818 - val_loss: 0.4124\n",
      "Epoch 6/10\n",
      "\u001b[1m83/83\u001b[0m \u001b[32m━━━━━━━━━━━━━━━━━━━━\u001b[0m\u001b[37m\u001b[0m \u001b[1m335s\u001b[0m 4s/step - accuracy: 0.7734 - loss: 0.4268 - val_accuracy: 0.8076 - val_loss: 0.4355\n",
      "Epoch 7/10\n",
      "\u001b[1m83/83\u001b[0m \u001b[32m━━━━━━━━━━━━━━━━━━━━\u001b[0m\u001b[37m\u001b[0m \u001b[1m333s\u001b[0m 4s/step - accuracy: 0.8172 - loss: 0.4103 - val_accuracy: 0.7970 - val_loss: 0.3868\n",
      "Epoch 8/10\n",
      "\u001b[1m83/83\u001b[0m \u001b[32m━━━━━━━━━━━━━━━━━━━━\u001b[0m\u001b[37m\u001b[0m \u001b[1m547s\u001b[0m 7s/step - accuracy: 0.8054 - loss: 0.4255 - val_accuracy: 0.8348 - val_loss: 0.3797\n",
      "Epoch 9/10\n",
      "\u001b[1m83/83\u001b[0m \u001b[32m━━━━━━━━━━━━━━━━━━━━\u001b[0m\u001b[37m\u001b[0m \u001b[1m382s\u001b[0m 4s/step - accuracy: 0.7772 - loss: 0.4066 - val_accuracy: 0.7924 - val_loss: 0.4416\n",
      "Epoch 10/10\n",
      "\u001b[1m83/83\u001b[0m \u001b[32m━━━━━━━━━━━━━━━━━━━━\u001b[0m\u001b[37m\u001b[0m \u001b[1m337s\u001b[0m 4s/step - accuracy: 0.8079 - loss: 0.4050 - val_accuracy: 0.7545 - val_loss: 0.4198\n"
     ]
    }
   ],
   "source": [
    "buildCNN = cnn_model.fit(\n",
    "    train_generator,\n",
    "    validation_data = test_generator,\n",
    "    epochs = 10,\n",
    "    # callbacks = [early_stopping]\n",
    ")"
   ]
  },
  {
   "cell_type": "markdown",
   "id": "a7fc7e3f-2a7e-4080-acc3-1acfc7bc72c1",
   "metadata": {},
   "source": [
    "Inference: Model achieves a validation accuracy of 75-80% which is reasonable for many classification tasks. The validation loss stabilizes around a certain value. It shows a decent performance."
   ]
  },
  {
   "cell_type": "code",
   "execution_count": 81,
   "id": "b613ada2-5adb-4c41-b0ec-e5ac1314df43",
   "metadata": {},
   "outputs": [
    {
     "name": "stdout",
     "output_type": "stream",
     "text": [
      "\u001b[1m21/21\u001b[0m \u001b[32m━━━━━━━━━━━━━━━━━━━━\u001b[0m\u001b[37m\u001b[0m \u001b[1m523s\u001b[0m 25s/step - accuracy: 0.8263 - loss: 0.3627\n",
      "\u001b[1m21/21\u001b[0m \u001b[32m━━━━━━━━━━━━━━━━━━━━\u001b[0m\u001b[37m\u001b[0m \u001b[1m21s\u001b[0m 944ms/step - accuracy: 0.7288 - loss: 0.4439\n",
      "VGG19 Test Loss: 0.376758337020874\n",
      "VGG19 Test Accuracy: 0.8166666626930237\n",
      "\n",
      "Custom CNN Test Loss: 0.4166063964366913\n",
      "Custom CNN Test Accuracy: 0.7545454502105713\n"
     ]
    }
   ],
   "source": [
    "vgg19_test_loss, vgg19_test_acc = vgg19_model.evaluate(test_generator)\n",
    "custom_cnn_test_loss, custom_cnn_test_acc = cnn_model.evaluate(test_generator)\n",
    "\n",
    "print(\"VGG19 Test Loss:\", vgg19_test_loss)\n",
    "print(\"VGG19 Test Accuracy:\", vgg19_test_acc)\n",
    "print(\"\\nCustom CNN Test Loss:\", custom_cnn_test_loss)\n",
    "print(\"Custom CNN Test Accuracy:\", custom_cnn_test_acc)"
   ]
  },
  {
   "cell_type": "markdown",
   "id": "f5ae8721-d040-4772-8a05-f2d7b93bfc18",
   "metadata": {},
   "source": [
    "Inference: VGG19 model appears to be outperform CNN model in terms of both test loss and accuracy on testing data."
   ]
  },
  {
   "cell_type": "markdown",
   "id": "c638c3b5-0b33-4712-a2bb-788e747b1c7d",
   "metadata": {},
   "source": [
    "Evaluations of both the model based on metrics"
   ]
  },
  {
   "cell_type": "code",
   "execution_count": 82,
   "id": "eb570f68-0651-4475-ba70-6f540edfc8d8",
   "metadata": {},
   "outputs": [
    {
     "name": "stdout",
     "output_type": "stream",
     "text": [
      "\u001b[1m21/21\u001b[0m \u001b[32m━━━━━━━━━━━━━━━━━━━━\u001b[0m\u001b[37m\u001b[0m \u001b[1m175s\u001b[0m 8s/step\n"
     ]
    }
   ],
   "source": [
    "vgg19_predictions = vgg19_model.predict(test_generator)\n",
    "vgg19_predicted_labels = (vgg19_predictions > 0.5).astype(int) "
   ]
  },
  {
   "cell_type": "code",
   "execution_count": 83,
   "id": "36808568-4230-454b-9de9-115acbd3b607",
   "metadata": {},
   "outputs": [],
   "source": [
    "vgg19_accuracy = accuracy_score(test_generator.labels, vgg19_predicted_labels)\n",
    "vgg19_precision = precision_score(test_generator.labels, vgg19_predicted_labels)\n",
    "vgg19_recall = recall_score(test_generator.labels, vgg19_predicted_labels)\n",
    "vgg19_f1 = f1_score(test_generator.labels, vgg19_predicted_labels)"
   ]
  },
  {
   "cell_type": "code",
   "execution_count": 84,
   "id": "6dd2f8fb-44ba-49c2-a9c5-e83c20dc7a30",
   "metadata": {},
   "outputs": [
    {
     "name": "stdout",
     "output_type": "stream",
     "text": [
      "Metrics for VGG19 Model:\n",
      "Accuracy: 0.4863636363636364\n",
      "Precision: 0.44108761329305135\n",
      "Recall: 0.4866666666666667\n",
      "F1-score: 0.46275752773375595\n",
      "\n"
     ]
    }
   ],
   "source": [
    "print(\"Metrics for VGG19 Model:\")\n",
    "print(\"Accuracy:\", vgg19_accuracy)\n",
    "print(\"Precision:\", vgg19_precision)\n",
    "print(\"Recall:\", vgg19_recall)\n",
    "print(\"F1-score:\", vgg19_f1)\n",
    "print()"
   ]
  },
  {
   "cell_type": "code",
   "execution_count": 86,
   "id": "0b5d6b84-70ec-4743-8ee8-8b8a3dfe9b92",
   "metadata": {},
   "outputs": [
    {
     "name": "stdout",
     "output_type": "stream",
     "text": [
      "\u001b[1m21/21\u001b[0m \u001b[32m━━━━━━━━━━━━━━━━━━━━\u001b[0m\u001b[37m\u001b[0m \u001b[1m9s\u001b[0m 310ms/step\n"
     ]
    }
   ],
   "source": [
    "custom_cnn_predictions = cnn_model.predict(test_generator)\n",
    "custom_cnn_predicted_labels = (custom_cnn_predictions > 0.5).astype(int) "
   ]
  },
  {
   "cell_type": "code",
   "execution_count": 87,
   "id": "d589296e-1ab6-46f5-9e9c-96f3e2222306",
   "metadata": {},
   "outputs": [],
   "source": [
    "custom_cnn_accuracy = accuracy_score(test_generator.labels, custom_cnn_predicted_labels)\n",
    "custom_cnn_precision = precision_score(test_generator.labels, custom_cnn_predicted_labels)\n",
    "custom_cnn_recall = recall_score(test_generator.labels, custom_cnn_predicted_labels)\n",
    "custom_cnn_f1 = f1_score(test_generator.labels, custom_cnn_predicted_labels)"
   ]
  },
  {
   "cell_type": "code",
   "execution_count": 88,
   "id": "0f43ef9b-115a-4de8-82ae-b5b67c7b1a63",
   "metadata": {},
   "outputs": [
    {
     "name": "stdout",
     "output_type": "stream",
     "text": [
      "Metrics for Custom CNN Model:\n",
      "Accuracy: 0.48787878787878786\n",
      "Precision: 0.45869565217391306\n",
      "Recall: 0.7033333333333334\n",
      "F1-score: 0.5552631578947368\n"
     ]
    }
   ],
   "source": [
    "print(\"Metrics for Custom CNN Model:\")\n",
    "print(\"Accuracy:\", custom_cnn_accuracy)\n",
    "print(\"Precision:\", custom_cnn_precision)\n",
    "print(\"Recall:\", custom_cnn_recall)\n",
    "print(\"F1-score:\", custom_cnn_f1)"
   ]
  },
  {
   "cell_type": "markdown",
   "id": "caa84f3f-4dc5-4747-9d9f-2f19435501a5",
   "metadata": {},
   "source": [
    "Inference: Based on the metrics CNN model appears to perform better than VGG19 model as it achieves higher precision, recall, f1 score etc."
   ]
  },
  {
   "cell_type": "markdown",
   "id": "f5127394-1d13-4c78-8a22-e96b093536b5",
   "metadata": {},
   "source": [
    "Visualizing training loss for both the architectures"
   ]
  },
  {
   "cell_type": "code",
   "execution_count": 92,
   "id": "54a2862d-9115-4f77-8205-dba2f69207eb",
   "metadata": {},
   "outputs": [
    {
     "data": {
      "image/png": "[encoded data removed]",
      "text/plain": [
       "<Figure size 1200x600 with 1 Axes>"
      ]
     },
     "metadata": {},
     "output_type": "display_data"
    }
   ],
   "source": [
    "plt.figure(figsize=(12, 6))\n",
    "plt.plot(buildVgg19.history['loss'], label='VGG19 Training Loss')\n",
    "plt.plot(buildCNN.history['loss'], label='Custom CNN Training Loss')\n",
    "plt.title('Training Loss Curves')\n",
    "plt.xlabel('Epoch')\n",
    "plt.ylabel('Loss')\n",
    "plt.legend()\n",
    "plt.grid(True)\n",
    "plt.show()"
   ]
  },
  {
   "cell_type": "markdown",
   "id": "30063a4a-632a-4186-b2ed-bb78b79885fd",
   "metadata": {},
   "source": [
    "Inference: We can observe that the training loss for both the architecture is decreasing gradually"
   ]
  },
  {
   "cell_type": "markdown",
   "id": "6db83134-2f72-4d5f-a825-0c332eba2142",
   "metadata": {},
   "source": [
    "Visualizing training accuracy for both the architectures"
   ]
  },
  {
   "cell_type": "code",
   "execution_count": 94,
   "id": "44e6bde9-585a-44a6-8e88-9d416fc5e788",
   "metadata": {},
   "outputs": [
    {
     "data": {
      "image/png": "[encoded data removed]",
      "text/plain": [
       "<Figure size 1200x600 with 1 Axes>"
      ]
     },
     "metadata": {},
     "output_type": "display_data"
    }
   ],
   "source": [
    "plt.figure(figsize=(12, 6))\n",
    "plt.plot(buildVgg19.history['accuracy'], label='VGG19 Training Accuracy')\n",
    "plt.plot(buildCNN.history['accuracy'], label='Custom CNN Training Accuracy')\n",
    "plt.title('Training Accuracy Curves')\n",
    "plt.xlabel('Epoch')\n",
    "plt.ylabel('Accuracy')\n",
    "plt.legend()\n",
    "plt.grid(True)\n",
    "plt.show()"
   ]
  },
  {
   "cell_type": "markdown",
   "id": "488b816d-5ebd-4f0b-8e21-164a7bb9b077",
   "metadata": {},
   "source": [
    "Inference: Here we can observe that the training accuracy is gradually increasing for both the models"
   ]
  },
  {
   "cell_type": "markdown",
   "id": "e030d4e6-d749-487f-b5e5-a2d8b16172c5",
   "metadata": {},
   "source": [
    "Visualing ROC Curves and Confusion Matrix"
   ]
  },
  {
   "cell_type": "code",
   "execution_count": 98,
   "id": "c991731d-087b-42e9-a162-0a487d66c3d6",
   "metadata": {},
   "outputs": [],
   "source": [
    "test_labels = test_generator.classes"
   ]
  },
  {
   "cell_type": "code",
   "execution_count": 99,
   "id": "f146006a-ce3b-48a7-a8dc-445142a96ab2",
   "metadata": {},
   "outputs": [],
   "source": [
    "fpr_vgg19, tpr_vgg19, _ = roc_curve(test_labels, vgg19_predictions)\n",
    "fpr_custom_cnn, tpr_custom_cnn, _ = roc_curve(test_labels, custom_cnn_predictions)"
   ]
  },
  {
   "cell_type": "code",
   "execution_count": 100,
   "id": "c3696d4d-0db7-4007-af81-608ef124197f",
   "metadata": {},
   "outputs": [
    {
     "data": {
      "image/png": "[encoded data removed]",
      "text/plain": [
       "<Figure size 800x600 with 1 Axes>"
      ]
     },
     "metadata": {},
     "output_type": "display_data"
    }
   ],
   "source": [
    "plt.figure(figsize=(8, 6))\n",
    "plt.plot(fpr_vgg19, tpr_vgg19, label='VGG19')\n",
    "plt.plot(fpr_custom_cnn, tpr_custom_cnn, label='Custom CNN')\n",
    "plt.plot([0, 1], [0, 1], 'k--', label='Random Guess')\n",
    "plt.xlabel('False Positive Rate')\n",
    "plt.ylabel('True Positive Rate')\n",
    "plt.title('ROC Curves')\n",
    "plt.legend()\n",
    "plt.grid(True)\n",
    "plt.show()"
   ]
  },
  {
   "cell_type": "markdown",
   "id": "774c766d-016d-465e-ad99-cdfca0fa0528",
   "metadata": {},
   "source": [
    "Inference: There is a room for improvement for both the models. It indicates poor discrimination capabilities. "
   ]
  },
  {
   "cell_type": "code",
   "execution_count": 101,
   "id": "ed09ceff-bedb-4feb-b427-94519bcc6649",
   "metadata": {},
   "outputs": [],
   "source": [
    "vgg19_cm = confusion_matrix(test_labels, (vgg19_predictions > 0.5).astype(int))\n",
    "custom_cnn_cm = confusion_matrix(test_labels, (custom_cnn_predictions > 0.5).astype(int))"
   ]
  },
  {
   "cell_type": "code",
   "execution_count": 102,
   "id": "58e0efee-2572-4d92-bc66-3bdba12f9501",
   "metadata": {},
   "outputs": [
    {
     "data": {
      "image/png": "[encoded data removed]",
      "text/plain": [
       "<Figure size 1200x600 with 2 Axes>"
      ]
     },
     "metadata": {},
     "output_type": "display_data"
    }
   ],
   "source": [
    "plt.figure(figsize=(12, 6))\n",
    "plt.subplot(1, 2, 1)\n",
    "sns.heatmap(vgg19_cm, annot=True, fmt='d', cmap='Blues', cbar=False)\n",
    "plt.title('VGG19 Confusion Matrix')\n",
    "plt.xlabel('Predicted Label')\n",
    "plt.ylabel('True Label')\n",
    "plt.subplot(1, 2, 2)\n",
    "sns.heatmap(custom_cnn_cm, annot=True, fmt='d', cmap='Blues', cbar=False)\n",
    "plt.title('Custom CNN Confusion Matrix')\n",
    "plt.xlabel('Predicted Label')\n",
    "plt.ylabel('True Label')\n",
    "plt.tight_layout()\n",
    "plt.show()"
   ]
  },
  {
   "cell_type": "code",
   "execution_count": 112,
   "id": "a3007408-1a44-4be9-b9a5-bec3957aaef6",
   "metadata": {},
   "outputs": [
    {
     "name": "stderr",
     "output_type": "stream",
     "text": [
      "WARNING:absl:You are saving your model as an HDF5 file via `model.save()` or `keras.saving.save_model(model)`. This file format is considered legacy. We recommend using instead the native Keras format, e.g. `model.save('my_model.keras')` or `keras.saving.save_model(model, 'my_model.keras')`. \n"
     ]
    }
   ],
   "source": [
    "cnn_model.save('custom_cnn_model.h5')"
   ]
  },
  {
   "cell_type": "markdown",
   "id": "18df1a37-b673-488f-8927-1a597448fd2f",
   "metadata": {},
   "source": [
    "## Let's try to predict with CNN Model ##"
   ]
  },
  {
   "cell_type": "code",
   "execution_count": 144,
   "id": "f4c5aa9b-4cdd-44b8-844b-05721db87652",
   "metadata": {},
   "outputs": [
    {
     "name": "stderr",
     "output_type": "stream",
     "text": [
      "WARNING:absl:Compiled the loaded model, but the compiled metrics have yet to be built. `model.compile_metrics` will be empty until you train or evaluate the model.\n"
     ]
    }
   ],
   "source": [
    "custom_cnn_model = load_model('custom_cnn_model.h5')"
   ]
  },
  {
   "cell_type": "code",
   "execution_count": 152,
   "id": "eb82f649-c5fc-44c0-9a52-a537ccbe9462",
   "metadata": {},
   "outputs": [],
   "source": [
    "imgpath = \"C:\\\\Users\\\\USER\\\\OneDrive\\\\Desktop\\\\58.jpg\""
   ]
  },
  {
   "cell_type": "code",
   "execution_count": 153,
   "id": "24b0fac3-2e28-42fc-852b-7a3f2d2fbfbe",
   "metadata": {},
   "outputs": [],
   "source": [
    "random_image_path = (imgpath)\n",
    "img = image.load_img(random_image_path, target_size=(224, 224)) "
   ]
  },
  {
   "cell_type": "code",
   "execution_count": 154,
   "id": "53ce58fb-1795-409d-a714-9d9a02795f9a",
   "metadata": {},
   "outputs": [],
   "source": [
    "img_custom_cnn = image.img_to_array(img) / 255.0  \n",
    "img_custom_cnn = np.expand_dims(img_custom_cnn, axis=0)"
   ]
  },
  {
   "cell_type": "code",
   "execution_count": 155,
   "id": "713ba774-4ea2-453a-95c2-d38ffb8049fc",
   "metadata": {},
   "outputs": [
    {
     "name": "stdout",
     "output_type": "stream",
     "text": [
      "\u001b[1m1/1\u001b[0m \u001b[32m━━━━━━━━━━━━━━━━━━━━\u001b[0m\u001b[37m\u001b[0m \u001b[1m0s\u001b[0m 184ms/step\n"
     ]
    }
   ],
   "source": [
    "prediction_custom_cnn = custom_cnn_model.predict(img_custom_cnn)\n"
   ]
  },
  {
   "cell_type": "code",
   "execution_count": 156,
   "id": "82406021-2fed-46f8-9014-3340223b2e9c",
   "metadata": {},
   "outputs": [
    {
     "name": "stdout",
     "output_type": "stream",
     "text": [
      "Custom CNN Prediction: Benign\n"
     ]
    }
   ],
   "source": [
    "if prediction_custom_cnn > 0.5:\n",
    "    print(\"Custom CNN Prediction: Malignant\")\n",
    "else:\n",
    "    print(\"Custom CNN Prediction: Benign\")"
   ]
  },
  {
   "cell_type": "markdown",
   "id": "47477f47-9450-413d-8aa2-7733e0b21899",
   "metadata": {},
   "source": [
    "Inference: The CNN model correctly classified the given image as benign."
   ]
  },
  {
   "cell_type": "markdown",
   "id": "ab569ea9-70ca-490a-bc7b-93d0a0b692c9",
   "metadata": {},
   "source": [
    "# Conclusion #\n",
    "\n",
    "Both the architectures are having their advantages. VGG19 model performed well on unseen data, the training accuracy and loss is good in CNN model architecture. VGG19 has a millions of paramaters, it has the capability to identify complex patterns. At last we did a prediction using CNN architecture, the model correcty predicted the given benign image as benign. Thus the given task to perform the comparison between CNN and VGG19/16 architures has been implememted successfully."
   ]
  }
 ],
 "metadata": {
  "kernelspec": {
   "display_name": "Python 3 (ipykernel)",
   "language": "python",
   "name": "python3"
  },
  "language_info": {
   "codemirror_mode": {
    "name": "ipython",
    "version": 3
   },
   "file_extension": ".py",
   "mimetype": "text/x-python",
   "name": "python",
   "nbconvert_exporter": "python",
   "pygments_lexer": "ipython3",
   "version": "3.9.6"
  }
 },
 "nbformat": 4,
 "nbformat_minor": 5
}
